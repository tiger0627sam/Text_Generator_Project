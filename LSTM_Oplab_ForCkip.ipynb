{
 "cells": [
  {
   "cell_type": "markdown",
   "metadata": {},
   "source": [
    "## CKIP LSTM"
   ]
  },
  {
   "cell_type": "code",
   "execution_count": 1,
   "metadata": {
    "executionInfo": {
     "elapsed": 5641,
     "status": "ok",
     "timestamp": 1652446990874,
     "user": {
      "displayName": "547蘇勁安",
      "userId": "12901927310267751394"
     },
     "user_tz": -480
    },
    "id": "pPCmAo0Q_G3i"
   },
   "outputs": [
    {
     "name": "stderr",
     "output_type": "stream",
     "text": [
      "c:\\Users\\oplab\\.conda\\envs\\IR-new\\lib\\site-packages\\numpy\\_distributor_init.py:30: UserWarning: loaded more than 1 DLL from .libs:\n",
      "c:\\Users\\oplab\\.conda\\envs\\IR-new\\lib\\site-packages\\numpy\\.libs\\libopenblas.PYQHXLVVQ7VESDPUVUADXEVJOBGHJPAY.gfortran-win_amd64.dll\n",
      "c:\\Users\\oplab\\.conda\\envs\\IR-new\\lib\\site-packages\\numpy\\.libs\\libopenblas64__v0.3.21-gcc_10_3_0.dll\n",
      "  warnings.warn(\"loaded more than 1 DLL from .libs:\\n%s\" %\n"
     ]
    }
   ],
   "source": [
    "import numpy as np\n",
    "import pandas as pd\n",
    "import os\n",
    "import json\n",
    "import re\n",
    "import matplotlib.pyplot as plt\n",
    "from tensorflow import keras\n",
    "from tensorflow.keras import layers\n",
    "import tensorflow as tf\n",
    "from opencc import OpenCC"
   ]
  },
  {
   "cell_type": "code",
   "execution_count": 2,
   "metadata": {},
   "outputs": [
    {
     "data": {
      "text/plain": [
       "[PhysicalDevice(name='/physical_device:XLA_GPU:0', device_type='XLA_GPU')]"
      ]
     },
     "execution_count": 2,
     "metadata": {},
     "output_type": "execute_result"
    }
   ],
   "source": [
    "tf.config.list_physical_devices('XLA_GPU')\n",
    "# from tensorflow.python.client import device_lib\n",
    "# print(device_lib.list_local_devices())"
   ]
  },
  {
   "cell_type": "code",
   "execution_count": 3,
   "metadata": {},
   "outputs": [
    {
     "name": "stdout",
     "output_type": "stream",
     "text": [
      "1 Physical GPUs, 1 Logical GPU\n"
     ]
    }
   ],
   "source": [
    "import tensorflow as tf\n",
    "\n",
    "gpu_number = 2 #### GPU number \n",
    "gpus = tf.config.list_physical_devices('XLA_GPU')\n",
    "if gpus:\n",
    "    tf.config.experimental.set_visible_devices(gpus[0], 'XLA_GPU') \n",
    "    logical_gpus = tf.config.experimental.list_logical_devices('XLA_GPU')\n",
    "    print(len(gpus), \"Physical GPUs,\", len(logical_gpus), \"Logical GPU\")"
   ]
  },
  {
   "cell_type": "code",
   "execution_count": 4,
   "metadata": {},
   "outputs": [
    {
     "data": {
      "text/plain": [
       "['一', '這', '是', '我', '第三', '次', '到', '這裏', '來', '屋']"
      ]
     },
     "execution_count": 4,
     "metadata": {},
     "output_type": "execute_result"
    }
   ],
   "source": [
    "dataPath = './Data/Ckip/'\n",
    "files = os.listdir(dataPath)\n",
    "allContent = []\n",
    "for file in files:\n",
    "    with open(dataPath + file, 'r', encoding='utf-8') as fileRead:\n",
    "        tempFileJSON = json.load(fileRead)\n",
    "        tempContentList = tempFileJSON['Context']\n",
    "        allContent.extend(tempContentList)\n",
    "allContent[:10]"
   ]
  },
  {
   "cell_type": "code",
   "execution_count": 5,
   "metadata": {
    "colab": {
     "base_uri": "https://localhost:8080/"
    },
    "executionInfo": {
     "elapsed": 3,
     "status": "ok",
     "timestamp": 1652446990874,
     "user": {
      "displayName": "547蘇勁安",
      "userId": "12901927310267751394"
     },
     "user_tz": -480
    },
    "id": "1Mbvzh_9_Tz8",
    "outputId": "ba705564-d18a-4657-f54f-0d9ffeb88c48"
   },
   "outputs": [
    {
     "name": "stdout",
     "output_type": "stream",
     "text": [
      "total: 6452716\n",
      "包含了168326 個獨一無二的字 (含標點符號)\n",
      "\n"
     ]
    }
   ],
   "source": [
    "contentLength = len(allContent)\n",
    "uniqueTerms = set(allContent)\n",
    "print(f\"total: {contentLength}\")\n",
    "print(f\"包含了{len(uniqueTerms)} 個獨一無二的字 (含標點符號)\\n\")"
   ]
  },
  {
   "cell_type": "code",
   "execution_count": 6,
   "metadata": {
    "executionInfo": {
     "elapsed": 459,
     "status": "ok",
     "timestamp": 1652446991331,
     "user": {
      "displayName": "547蘇勁安",
      "userId": "12901927310267751394"
     },
     "user_tz": -480
    },
    "id": "tQDQ8hxBEa6d"
   },
   "outputs": [],
   "source": [
    "# 計算字數統計\n",
    "termCount = {}\n",
    "for w in allContent:\n",
    "    if w in termCount:\n",
    "        termCount[w] += 1\n",
    "    else:\n",
    "        termCount[w] = 1"
   ]
  },
  {
   "cell_type": "code",
   "execution_count": 7,
   "metadata": {
    "colab": {
     "base_uri": "https://localhost:8080/"
    },
    "executionInfo": {
     "elapsed": 29305,
     "status": "ok",
     "timestamp": 1652447020633,
     "user": {
      "displayName": "547蘇勁安",
      "userId": "12901927310267751394"
     },
     "user_tz": -480
    },
    "id": "e_uP5gOVIy2K",
    "outputId": "cbb8f0b3-166b-473a-eb63-c011dee64d58"
   },
   "outputs": [
    {
     "name": "stdout",
     "output_type": "stream",
     "text": [
      "origin length 6452716\n",
      "去除不常出現的文字後\n",
      "0 100000 200000 300000 400000 500000 600000 700000 800000 900000 1000000 1100000 1200000 1300000 1400000 1500000 1600000 1700000 1800000 1900000 2000000 2100000 2200000 2300000 2400000 2500000 2600000 2700000 2800000 2900000 3000000 3100000 3200000 3300000 3400000 3500000 3600000 3700000 3800000 3900000 4000000 4100000 4200000 4300000 4400000 4500000 4600000 4700000 4800000 4900000 5000000 5100000 5200000 5300000 5400000 5500000 5600000 5700000 5800000 5900000 6000000 6100000 6200000 6300000 6400000 "
     ]
    }
   ],
   "source": [
    "print(f\"origin length {contentLength}\")\n",
    "print(f\"去除不常出現的文字後\")\n",
    "removeIndexList = []\n",
    "for index, word in enumerate(allContent):\n",
    "    if(index%100000)==0:\n",
    "        print(index, end=' ')\n",
    "    if termCount.get(word) < 2:\n",
    "        removeIndexList.append(index)"
   ]
  },
  {
   "cell_type": "code",
   "execution_count": 8,
   "metadata": {},
   "outputs": [
    {
     "data": {
      "text/plain": [
       "91183"
      ]
     },
     "execution_count": 8,
     "metadata": {},
     "output_type": "execute_result"
    }
   ],
   "source": [
    "len(removeIndexList)"
   ]
  },
  {
   "cell_type": "code",
   "execution_count": 9,
   "metadata": {},
   "outputs": [
    {
     "name": "stdout",
     "output_type": "stream",
     "text": [
      "1000 2000 3000 4000 5000 6000 7000 8000 9000 10000 11000 12000 13000 14000 15000 16000 17000 18000 19000 20000 21000 22000 23000 24000 25000 26000 27000 28000 29000 30000 31000 32000 33000 34000 35000 36000 37000 38000 39000 40000 41000 42000 43000 44000 45000 46000 47000 48000 49000 50000 51000 52000 53000 54000 55000 56000 57000 58000 59000 60000 61000 62000 63000 64000 65000 66000 67000 68000 69000 70000 71000 72000 73000 74000 75000 76000 77000 78000 79000 80000 81000 82000 83000 84000 85000 86000 87000 88000 89000 90000 91000 "
     ]
    }
   ],
   "source": [
    "count = 0\n",
    "for removeIndex in sorted(removeIndexList, reverse=True):\n",
    "    count += 1\n",
    "    if(count%1000)==0:\n",
    "        print(count, end=' ')\n",
    "    del allContent[removeIndex]"
   ]
  },
  {
   "cell_type": "code",
   "execution_count": 10,
   "metadata": {},
   "outputs": [
    {
     "name": "stdout",
     "output_type": "stream",
     "text": [
      "剩餘6361533個字\n"
     ]
    },
    {
     "data": {
      "text/plain": [
       "['一', '這', '是', '我', '第三', '次', '到', '這裏', '來', '屋']"
      ]
     },
     "execution_count": 10,
     "metadata": {},
     "output_type": "execute_result"
    }
   ],
   "source": [
    "uniqueWords = set(allContent)\n",
    "print(f\"剩餘{len(allContent)}個字\")\n",
    "allContent[:10]"
   ]
  },
  {
   "cell_type": "code",
   "execution_count": 11,
   "metadata": {
    "colab": {
     "base_uri": "https://localhost:8080/"
    },
    "executionInfo": {
     "elapsed": 6,
     "status": "ok",
     "timestamp": 1652447020633,
     "user": {
      "displayName": "547蘇勁安",
      "userId": "12901927310267751394"
     },
     "user_tz": -480
    },
    "id": "6LP0BwFDAmcS",
    "outputId": "a082dad7-3cd9-4910-b24a-911a0f039b9f"
   },
   "outputs": [
    {
     "name": "stdout",
     "output_type": "stream",
     "text": [
      "原始文字 : \n",
      "['一', '這', '是', '我', '第三', '次', '到', '這裏', '來', '屋']\n",
      "轉成index : \n",
      "{75777, 34180, 76037, 24713, 41099, 73745, 23067, 21285, 26027, 5420, 59446, 23094, 62400, 47819, 36692, 38358, 62681, 11610, 74714, 19422, 4063, 49631, 39528, 14314, 35057, 66546, 1139, 13052, 42877, 30334}\n"
     ]
    }
   ],
   "source": [
    "# 文字轉數字(index)\n",
    "word2Index = {word:index for index,word in enumerate(uniqueWords)}\n",
    "index2Word = {word2Index[word]:word for word in word2Index}\n",
    "\n",
    "content2Index = [word2Index[w] for w in allContent]\n",
    "\n",
    "print(\"原始文字 : \")\n",
    "print(allContent[:10])\n",
    "print(\"轉成index : \")\n",
    "print({word2Index[w] for w in allContent[:40]})"
   ]
  },
  {
   "cell_type": "code",
   "execution_count": 12,
   "metadata": {
    "executionInfo": {
     "elapsed": 4,
     "status": "ok",
     "timestamp": 1652447020633,
     "user": {
      "displayName": "547蘇勁安",
      "userId": "12901927310267751394"
     },
     "user_tz": -480
    },
    "id": "H-KDv4kqgxLH"
   },
   "outputs": [],
   "source": [
    "def ind2word_seq(seq):\n",
    "    return [index2Word[i] for i in seq]"
   ]
  },
  {
   "cell_type": "code",
   "execution_count": 13,
   "metadata": {
    "colab": {
     "base_uri": "https://localhost:8080/"
    },
    "executionInfo": {
     "elapsed": 4831,
     "status": "ok",
     "timestamp": 1652447025461,
     "user": {
      "displayName": "547蘇勁安",
      "userId": "12901927310267751394"
     },
     "user_tz": -480
    },
    "id": "_aDyjJymDmVv",
    "outputId": "fa1c548d-14d6-49be-fb55-d214fc54e236"
   },
   "outputs": [
    {
     "name": "stdout",
     "output_type": "stream",
     "text": [
      "(16,)\n",
      "tf.Tensor(\n",
      "[59446 75777 38358 62400 62681 49631 19422 76037 23067 36692 26027  4063\n",
      "  1139 42877 13052 73745], shape=(16,), dtype=int32)\n",
      "['一', '這', '是', '我', '第三', '次', '到', '這裏', '來', '屋', '裏', '的', '擺設', '還是', '很', '陳舊']\n",
      "(16,)\n",
      "tf.Tensor(\n",
      "[62400 14314 35057  4063 11610 23094 41099 30334 34180 24713  4063 74714\n",
      " 62400 62400 75777 49631], shape=(16,), dtype=int32)\n",
      "['我', '侷促', '不安', '的', '站着', '雙手', '在', '胸', '前', '不停', '的', '揉搓着', '我', '我', '這', '次']\n"
     ]
    }
   ],
   "source": [
    "# 設定輸入模型長度\n",
    "seq_len = 15\n",
    "characters = tf.data.Dataset.from_tensor_slices(content2Index)\n",
    "\n",
    "sequences = characters.batch(seq_len+1,drop_remainder=True)\n",
    "\n",
    "for seq in sequences.take(2):\n",
    "    print(seq.shape)\n",
    "    print(seq)\n",
    "    print([index2Word[i] for i in seq.numpy()])"
   ]
  },
  {
   "cell_type": "code",
   "execution_count": 14,
   "metadata": {
    "colab": {
     "base_uri": "https://localhost:8080/"
    },
    "executionInfo": {
     "elapsed": 8,
     "status": "ok",
     "timestamp": 1652447025461,
     "user": {
      "displayName": "547蘇勁安",
      "userId": "12901927310267751394"
     },
     "user_tz": -480
    },
    "id": "jhFC16MdLONw",
    "outputId": "e786c858-0952-4e1f-cedf-e1c78acbe9bb"
   },
   "outputs": [],
   "source": [
    "# 做input、target切割\n",
    "def split_input_target(seq):\n",
    "    input_txt = seq[:-1]\n",
    "    target_txt = seq[1:]\n",
    "    return input_txt,target_txt"
   ]
  },
  {
   "cell_type": "code",
   "execution_count": 15,
   "metadata": {
    "colab": {
     "base_uri": "https://localhost:8080/"
    },
    "executionInfo": {
     "elapsed": 533,
     "status": "ok",
     "timestamp": 1652447025990,
     "user": {
      "displayName": "547蘇勁安",
      "userId": "12901927310267751394"
     },
     "user_tz": -480
    },
    "id": "qnJ4Bdj2gZ1V",
    "outputId": "39a7de28-ddd6-48f4-ed04-215b20d43c32"
   },
   "outputs": [
    {
     "name": "stdout",
     "output_type": "stream",
     "text": [
      "Input : ['一', '這', '是', '我', '第三', '次', '到', '這裏', '來', '屋', '裏', '的', '擺設', '還是', '很']\n",
      "Target: ['這', '是', '我', '第三', '次', '到', '這裏', '來', '屋', '裏', '的', '擺設', '還是', '很', '陳舊']\n",
      "--------------------------------------------------\n",
      "Input : [59446 75777 38358 62400 62681 49631 19422 76037 23067 36692 26027  4063\n",
      "  1139 42877 13052]\n",
      "Target: [75777 38358 62400 62681 49631 19422 76037 23067 36692 26027  4063  1139\n",
      " 42877 13052 73745]\n"
     ]
    }
   ],
   "source": [
    "dataset = sequences.map(split_input_target)\n",
    "\n",
    "for input_example,target_exaple in dataset.take(1):\n",
    "    print(\"Input :\", ind2word_seq(input_example.numpy()))\n",
    "    print(\"Target:\", ind2word_seq(target_exaple.numpy()))\n",
    "    print(\"-\"*50)\n",
    "    print(\"Input :\", input_example.numpy())\n",
    "    print(\"Target:\", target_exaple.numpy())"
   ]
  },
  {
   "cell_type": "code",
   "execution_count": 16,
   "metadata": {
    "colab": {
     "base_uri": "https://localhost:8080/"
    },
    "executionInfo": {
     "elapsed": 8,
     "status": "ok",
     "timestamp": 1652447025990,
     "user": {
      "displayName": "547蘇勁安",
      "userId": "12901927310267751394"
     },
     "user_tz": -480
    },
    "id": "UNivSh2Igr2-",
    "outputId": "3d39c499-dc23-4307-d16d-e770d72f3c94"
   },
   "outputs": [
    {
     "data": {
      "text/plain": [
       "<BatchDataset shapes: ((128, 15), (128, 15)), types: (tf.int32, tf.int32)>"
      ]
     },
     "execution_count": 16,
     "metadata": {},
     "output_type": "execute_result"
    }
   ],
   "source": [
    "# 建立資料集\n",
    "# Batch size\n",
    "BATCH_SIZE = 128\n",
    "\n",
    "BUFFER_SIZE = 10000\n",
    "\n",
    "dataset = (\n",
    "    dataset\n",
    "    .shuffle(BUFFER_SIZE)\n",
    "    .batch(BATCH_SIZE, drop_remainder=True))\n",
    "\n",
    "dataset"
   ]
  },
  {
   "cell_type": "code",
   "execution_count": 17,
   "metadata": {
    "colab": {
     "base_uri": "https://localhost:8080/"
    },
    "executionInfo": {
     "elapsed": 67611,
     "status": "ok",
     "timestamp": 1652447093595,
     "user": {
      "displayName": "547蘇勁安",
      "userId": "12901927310267751394"
     },
     "user_tz": -480
    },
    "id": "UkRcSZAHnxlk",
    "outputId": "decb5171-3c95-4ef5-b398-3b2a3541aa21"
   },
   "outputs": [
    {
     "name": "stdout",
     "output_type": "stream",
     "text": [
      "Model: \"sequential\"\n",
      "_________________________________________________________________\n",
      "Layer (type)                 Output Shape              Param #   \n",
      "=================================================================\n",
      "embedding (Embedding)        (None, None, 512)         39497216  \n",
      "_________________________________________________________________\n",
      "lstm (LSTM)                  (None, None, 512)         2099200   \n",
      "_________________________________________________________________\n",
      "lstm_1 (LSTM)                (None, None, 256)         787456    \n",
      "_________________________________________________________________\n",
      "dense (Dense)                (None, None, 77143)       19825751  \n",
      "=================================================================\n",
      "Total params: 62,209,623\n",
      "Trainable params: 62,209,623\n",
      "Non-trainable params: 0\n",
      "_________________________________________________________________\n"
     ]
    }
   ],
   "source": [
    "# 超參數\n",
    "EMBEDDING_DIM = 512\n",
    "\n",
    "# 使用 keras 建立一個非常簡單的 LSTM 模型\n",
    "model = tf.keras.Sequential()\n",
    "\n",
    "model.add(\n",
    "  tf.keras.layers.Embedding(\n",
    "    input_dim=len(uniqueWords), \n",
    "    output_dim=EMBEDDING_DIM\n",
    "))\n",
    "\n",
    "model.add(\n",
    "  tf.keras.layers.LSTM(\n",
    "    units=512, \n",
    "    return_sequences=True, \n",
    "))\n",
    "\n",
    "model.add(\n",
    "  tf.keras.layers.LSTM(\n",
    "    units=256, \n",
    "    return_sequences=True,\n",
    "))\n",
    "  \n",
    "model.add(\n",
    "  tf.keras.layers.Dense(\n",
    "      len(uniqueWords),activation=\"softmax\"))\n",
    "\n",
    "model.summary()"
   ]
  },
  {
   "cell_type": "code",
   "execution_count": 18,
   "metadata": {
    "colab": {
     "base_uri": "https://localhost:8080/"
    },
    "executionInfo": {
     "elapsed": 4454,
     "status": "ok",
     "timestamp": 1652447098041,
     "user": {
      "displayName": "547蘇勁安",
      "userId": "12901927310267751394"
     },
     "user_tz": -480
    },
    "id": "YKiszF5doFGz",
    "outputId": "d0954123-aaaf-49fc-9598-dcc1ec6505c4"
   },
   "outputs": [
    {
     "name": "stdout",
     "output_type": "stream",
     "text": [
      "Model input shape : (128, 15)\n",
      "Model output shape : (128, 15, 77143)\n",
      "Model target shape : (128, 15)\n"
     ]
    }
   ],
   "source": [
    "# 查看模型的輸入、輸出 shape\n",
    "for input_example,target_exaple in dataset.take(1):\n",
    "    predict_example = model(input_example)\n",
    "    print(f\"Model input shape : {input_example.shape}\")\n",
    "    print(f\"Model output shape : {predict_example.shape}\")\n",
    "    print(f\"Model target shape : {target_exaple.shape}\")"
   ]
  },
  {
   "cell_type": "code",
   "execution_count": 19,
   "metadata": {
    "colab": {
     "base_uri": "https://localhost:8080/"
    },
    "executionInfo": {
     "elapsed": 10,
     "status": "ok",
     "timestamp": 1652447098041,
     "user": {
      "displayName": "547蘇勁安",
      "userId": "12901927310267751394"
     },
     "user_tz": -480
    },
    "id": "CsN6Zz4NReV4",
    "outputId": "0e397697-55b0-42cf-c88e-af600b44fe55"
   },
   "outputs": [
    {
     "name": "stdout",
     "output_type": "stream",
     "text": [
      "原本的中文字序列：\n",
      "喂護士小姐什麼時候能來電吶你們這兒總停電啊這麼大\n",
      "----------------------------------------\n",
      "輸入尚未訓練的model後獲得：\n",
      "\n",
      "不可耐超生子女超生子女康良安接單棄嬰雙魂奪體雙魂奪體棄嬰讀報讀報讀報讀報姐夫勇氣家\n"
     ]
    }
   ],
   "source": [
    "print(\"原本的中文字序列：\")\n",
    "[print(index2Word[ind],end=\"\") for ind in input_example[0].numpy()]\n",
    "print()\n",
    "print(\"-\"*40)\n",
    "print(\"輸入尚未訓練的model後獲得：\")\n",
    "print()\n",
    "\n",
    "predict_words = tf.math.argmax(predict_example[0],-1)\n",
    "[print(index2Word[ind],end=\"\") for ind in predict_words.numpy()]\n",
    "print()"
   ]
  },
  {
   "cell_type": "code",
   "execution_count": 20,
   "metadata": {},
   "outputs": [],
   "source": [
    "checkpoint_path = \"./CheckPoint/lstmCkipV2Cp.ckpt\"\n",
    "checkpoint_dir = os.path.dirname(checkpoint_path)\n",
    "\n",
    "# Create a callback that saves the model's weights\n",
    "cp_callback = tf.keras.callbacks.ModelCheckpoint(filepath=checkpoint_path, save_weights_only=True, verbose=1)\n"
   ]
  },
  {
   "cell_type": "code",
   "execution_count": 21,
   "metadata": {
    "executionInfo": {
     "elapsed": 6,
     "status": "ok",
     "timestamp": 1652447098041,
     "user": {
      "displayName": "547蘇勁安",
      "userId": "12901927310267751394"
     },
     "user_tz": -480
    },
    "id": "unPfQAQBonFj"
   },
   "outputs": [],
   "source": [
    "model.compile(loss=\"sparse_categorical_crossentropy\",optimizer=\"adam\")"
   ]
  },
  {
   "cell_type": "code",
   "execution_count": 22,
   "metadata": {
    "colab": {
     "base_uri": "https://localhost:8080/"
    },
    "executionInfo": {
     "elapsed": 2764800,
     "status": "ok",
     "timestamp": 1652449862836,
     "user": {
      "displayName": "547蘇勁安",
      "userId": "12901927310267751394"
     },
     "user_tz": -480
    },
    "id": "5IW5xiiMpJhJ",
    "outputId": "d091f5ab-d2d3-4a23-92b6-7cc306335a81",
    "scrolled": true
   },
   "outputs": [
    {
     "name": "stdout",
     "output_type": "stream",
     "text": [
      "Epoch 1/50\n",
      "3106/3106 [==============================] - ETA: 0s - loss: 7.6782\n",
      "Epoch 00001: saving model to ./CheckPoint\\lstmCkipV2Cp.ckpt\n",
      "3106/3106 [==============================] - 842s 271ms/step - loss: 7.6782\n",
      "Epoch 2/50\n",
      "3106/3106 [==============================] - ETA: 0s - loss: 7.2594\n",
      "Epoch 00002: saving model to ./CheckPoint\\lstmCkipV2Cp.ckpt\n",
      "3106/3106 [==============================] - 849s 273ms/step - loss: 7.2594\n",
      "Epoch 3/50\n",
      "3106/3106 [==============================] - ETA: 0s - loss: 6.4012\n",
      "Epoch 00003: saving model to ./CheckPoint\\lstmCkipV2Cp.ckpt\n",
      "3106/3106 [==============================] - 844s 272ms/step - loss: 6.4012\n",
      "Epoch 4/50\n",
      "3106/3106 [==============================] - ETA: 0s - loss: 6.0190\n",
      "Epoch 00004: saving model to ./CheckPoint\\lstmCkipV2Cp.ckpt\n",
      "3106/3106 [==============================] - 848s 273ms/step - loss: 6.0190\n",
      "Epoch 5/50\n",
      "3106/3106 [==============================] - ETA: 0s - loss: 5.7739\n",
      "Epoch 00005: saving model to ./CheckPoint\\lstmCkipV2Cp.ckpt\n",
      "3106/3106 [==============================] - 845s 272ms/step - loss: 5.7739\n",
      "Epoch 6/50\n",
      "3106/3106 [==============================] - ETA: 0s - loss: 5.5856\n",
      "Epoch 00006: saving model to ./CheckPoint\\lstmCkipV2Cp.ckpt\n",
      "3106/3106 [==============================] - 848s 273ms/step - loss: 5.5856\n",
      "Epoch 7/50\n",
      "3106/3106 [==============================] - ETA: 0s - loss: 5.4280\n",
      "Epoch 00007: saving model to ./CheckPoint\\lstmCkipV2Cp.ckpt\n",
      "3106/3106 [==============================] - 841s 271ms/step - loss: 5.4280\n",
      "Epoch 8/50\n",
      "3106/3106 [==============================] - ETA: 0s - loss: 5.2882\n",
      "Epoch 00008: saving model to ./CheckPoint\\lstmCkipV2Cp.ckpt\n",
      "3106/3106 [==============================] - 824s 265ms/step - loss: 5.2882\n",
      "Epoch 9/50\n",
      "3106/3106 [==============================] - ETA: 0s - loss: 5.1634\n",
      "Epoch 00009: saving model to ./CheckPoint\\lstmCkipV2Cp.ckpt\n",
      "3106/3106 [==============================] - 821s 264ms/step - loss: 5.1634\n",
      "Epoch 10/50\n",
      "3106/3106 [==============================] - ETA: 0s - loss: 5.0474\n",
      "Epoch 00010: saving model to ./CheckPoint\\lstmCkipV2Cp.ckpt\n",
      "3106/3106 [==============================] - 825s 266ms/step - loss: 5.0474\n",
      "Epoch 11/50\n",
      "3106/3106 [==============================] - ETA: 0s - loss: 4.9396\n",
      "Epoch 00011: saving model to ./CheckPoint\\lstmCkipV2Cp.ckpt\n",
      "3106/3106 [==============================] - 835s 269ms/step - loss: 4.9396\n",
      "Epoch 12/50\n",
      "3106/3106 [==============================] - ETA: 0s - loss: 4.8382\n",
      "Epoch 00012: saving model to ./CheckPoint\\lstmCkipV2Cp.ckpt\n",
      "3106/3106 [==============================] - 848s 273ms/step - loss: 4.8382\n",
      "Epoch 13/50\n",
      "3106/3106 [==============================] - ETA: 0s - loss: 4.7423\n",
      "Epoch 00013: saving model to ./CheckPoint\\lstmCkipV2Cp.ckpt\n",
      "3106/3106 [==============================] - 845s 272ms/step - loss: 4.7423\n",
      "Epoch 14/50\n",
      "3106/3106 [==============================] - ETA: 0s - loss: 4.6520\n",
      "Epoch 00014: saving model to ./CheckPoint\\lstmCkipV2Cp.ckpt\n",
      "3106/3106 [==============================] - 848s 273ms/step - loss: 4.6520\n",
      "Epoch 15/50\n",
      "3106/3106 [==============================] - ETA: 0s - loss: 4.5667\n",
      "Epoch 00015: saving model to ./CheckPoint\\lstmCkipV2Cp.ckpt\n",
      "3106/3106 [==============================] - 846s 272ms/step - loss: 4.5667\n",
      "Epoch 16/50\n",
      "3106/3106 [==============================] - ETA: 0s - loss: 4.4858\n",
      "Epoch 00016: saving model to ./CheckPoint\\lstmCkipV2Cp.ckpt\n",
      "3106/3106 [==============================] - 848s 273ms/step - loss: 4.4858\n",
      "Epoch 17/50\n",
      "3106/3106 [==============================] - ETA: 0s - loss: 4.4093\n",
      "Epoch 00017: saving model to ./CheckPoint\\lstmCkipV2Cp.ckpt\n",
      "3106/3106 [==============================] - 846s 272ms/step - loss: 4.4093\n",
      "Epoch 18/50\n",
      "3106/3106 [==============================] - ETA: 0s - loss: 4.3366\n",
      "Epoch 00018: saving model to ./CheckPoint\\lstmCkipV2Cp.ckpt\n",
      "3106/3106 [==============================] - 848s 273ms/step - loss: 4.3366\n",
      "Epoch 19/50\n",
      "3106/3106 [==============================] - ETA: 0s - loss: 4.2681\n",
      "Epoch 00019: saving model to ./CheckPoint\\lstmCkipV2Cp.ckpt\n",
      "3106/3106 [==============================] - 845s 272ms/step - loss: 4.2681\n",
      "Epoch 20/50\n",
      "3106/3106 [==============================] - ETA: 0s - loss: 4.2036\n",
      "Epoch 00020: saving model to ./CheckPoint\\lstmCkipV2Cp.ckpt\n",
      "3106/3106 [==============================] - 847s 273ms/step - loss: 4.2036\n",
      "Epoch 21/50\n",
      "3106/3106 [==============================] - ETA: 0s - loss: 4.1426\n",
      "Epoch 00021: saving model to ./CheckPoint\\lstmCkipV2Cp.ckpt\n",
      "3106/3106 [==============================] - 842s 271ms/step - loss: 4.1426\n",
      "Epoch 22/50\n",
      "3106/3106 [==============================] - ETA: 0s - loss: 4.0851\n",
      "Epoch 00022: saving model to ./CheckPoint\\lstmCkipV2Cp.ckpt\n",
      "3106/3106 [==============================] - 847s 273ms/step - loss: 4.0851\n",
      "Epoch 23/50\n",
      "3106/3106 [==============================] - ETA: 0s - loss: 4.0310\n",
      "Epoch 00023: saving model to ./CheckPoint\\lstmCkipV2Cp.ckpt\n",
      "3106/3106 [==============================] - 842s 271ms/step - loss: 4.0310\n",
      "Epoch 24/50\n",
      "3106/3106 [==============================] - ETA: 0s - loss: 3.9796\n",
      "Epoch 00024: saving model to ./CheckPoint\\lstmCkipV2Cp.ckpt\n",
      "3106/3106 [==============================] - 847s 273ms/step - loss: 3.9796\n",
      "Epoch 25/50\n",
      "3106/3106 [==============================] - ETA: 0s - loss: 3.9313\n",
      "Epoch 00025: saving model to ./CheckPoint\\lstmCkipV2Cp.ckpt\n",
      "3106/3106 [==============================] - 842s 271ms/step - loss: 3.9313\n",
      "Epoch 26/50\n",
      "3106/3106 [==============================] - ETA: 0s - loss: 3.8859\n",
      "Epoch 00026: saving model to ./CheckPoint\\lstmCkipV2Cp.ckpt\n",
      "3106/3106 [==============================] - 847s 273ms/step - loss: 3.8859\n",
      "Epoch 27/50\n",
      "3106/3106 [==============================] - ETA: 0s - loss: 3.8435\n",
      "Epoch 00027: saving model to ./CheckPoint\\lstmCkipV2Cp.ckpt\n",
      "3106/3106 [==============================] - 842s 271ms/step - loss: 3.8435\n",
      "Epoch 28/50\n",
      "3106/3106 [==============================] - ETA: 0s - loss: 3.8030\n",
      "Epoch 00028: saving model to ./CheckPoint\\lstmCkipV2Cp.ckpt\n",
      "3106/3106 [==============================] - 845s 272ms/step - loss: 3.8030\n",
      "Epoch 29/50\n",
      "3106/3106 [==============================] - ETA: 0s - loss: 3.7646\n",
      "Epoch 00029: saving model to ./CheckPoint\\lstmCkipV2Cp.ckpt\n",
      "3106/3106 [==============================] - 843s 271ms/step - loss: 3.7646\n",
      "Epoch 30/50\n",
      "3106/3106 [==============================] - ETA: 0s - loss: 3.7292\n",
      "Epoch 00030: saving model to ./CheckPoint\\lstmCkipV2Cp.ckpt\n",
      "3106/3106 [==============================] - 845s 272ms/step - loss: 3.7292\n",
      "Epoch 31/50\n",
      "3106/3106 [==============================] - ETA: 0s - loss: 3.6952\n",
      "Epoch 00031: saving model to ./CheckPoint\\lstmCkipV2Cp.ckpt\n",
      "3106/3106 [==============================] - 845s 272ms/step - loss: 3.6952\n",
      "Epoch 32/50\n",
      "3106/3106 [==============================] - ETA: 0s - loss: 3.6627\n",
      "Epoch 00032: saving model to ./CheckPoint\\lstmCkipV2Cp.ckpt\n",
      "3106/3106 [==============================] - 845s 272ms/step - loss: 3.6627\n",
      "Epoch 33/50\n",
      "3106/3106 [==============================] - ETA: 0s - loss: 3.6326\n",
      "Epoch 00033: saving model to ./CheckPoint\\lstmCkipV2Cp.ckpt\n",
      "3106/3106 [==============================] - 844s 272ms/step - loss: 3.6326\n",
      "Epoch 34/50\n",
      "3106/3106 [==============================] - ETA: 0s - loss: 3.6044\n",
      "Epoch 00034: saving model to ./CheckPoint\\lstmCkipV2Cp.ckpt\n",
      "3106/3106 [==============================] - 844s 272ms/step - loss: 3.6044\n",
      "Epoch 35/50\n",
      "3106/3106 [==============================] - ETA: 0s - loss: 3.5770\n",
      "Epoch 00035: saving model to ./CheckPoint\\lstmCkipV2Cp.ckpt\n",
      "3106/3106 [==============================] - 844s 272ms/step - loss: 3.5770\n",
      "Epoch 36/50\n",
      "3106/3106 [==============================] - ETA: 0s - loss: 3.5512\n",
      "Epoch 00036: saving model to ./CheckPoint\\lstmCkipV2Cp.ckpt\n",
      "3106/3106 [==============================] - 844s 272ms/step - loss: 3.5512\n",
      "Epoch 37/50\n",
      "3106/3106 [==============================] - ETA: 0s - loss: 3.5268\n",
      "Epoch 00037: saving model to ./CheckPoint\\lstmCkipV2Cp.ckpt\n",
      "3106/3106 [==============================] - 846s 272ms/step - loss: 3.5268\n",
      "Epoch 38/50\n",
      "3106/3106 [==============================] - ETA: 0s - loss: 3.5040\n",
      "Epoch 00038: saving model to ./CheckPoint\\lstmCkipV2Cp.ckpt\n",
      "3106/3106 [==============================] - 846s 272ms/step - loss: 3.5040\n",
      "Epoch 39/50\n",
      "3106/3106 [==============================] - ETA: 0s - loss: 3.4818\n",
      "Epoch 00039: saving model to ./CheckPoint\\lstmCkipV2Cp.ckpt\n",
      "3106/3106 [==============================] - 847s 273ms/step - loss: 3.4818\n",
      "Epoch 40/50\n",
      "3106/3106 [==============================] - ETA: 0s - loss: 3.4609\n",
      "Epoch 00040: saving model to ./CheckPoint\\lstmCkipV2Cp.ckpt\n",
      "3106/3106 [==============================] - 826s 266ms/step - loss: 3.4609\n",
      "Epoch 41/50\n",
      "3106/3106 [==============================] - ETA: 0s - loss: 3.4415\n",
      "Epoch 00041: saving model to ./CheckPoint\\lstmCkipV2Cp.ckpt\n",
      "3106/3106 [==============================] - 822s 265ms/step - loss: 3.4415\n",
      "Epoch 42/50\n",
      "3106/3106 [==============================] - ETA: 0s - loss: 3.4225\n",
      "Epoch 00042: saving model to ./CheckPoint\\lstmCkipV2Cp.ckpt\n",
      "3106/3106 [==============================] - 823s 265ms/step - loss: 3.4225\n",
      "Epoch 43/50\n",
      "3106/3106 [==============================] - ETA: 0s - loss: 3.4045\n",
      "Epoch 00043: saving model to ./CheckPoint\\lstmCkipV2Cp.ckpt\n",
      "3106/3106 [==============================] - 822s 265ms/step - loss: 3.4045\n",
      "Epoch 44/50\n",
      "3106/3106 [==============================] - ETA: 0s - loss: 3.3871\n",
      "Epoch 00044: saving model to ./CheckPoint\\lstmCkipV2Cp.ckpt\n",
      "3106/3106 [==============================] - 819s 264ms/step - loss: 3.3871\n",
      "Epoch 45/50\n",
      "3106/3106 [==============================] - ETA: 0s - loss: 3.3709\n",
      "Epoch 00045: saving model to ./CheckPoint\\lstmCkipV2Cp.ckpt\n",
      "3106/3106 [==============================] - 822s 265ms/step - loss: 3.3709\n",
      "Epoch 46/50\n",
      "3106/3106 [==============================] - ETA: 0s - loss: 3.3555\n",
      "Epoch 00046: saving model to ./CheckPoint\\lstmCkipV2Cp.ckpt\n",
      "3106/3106 [==============================] - 820s 264ms/step - loss: 3.3555\n",
      "Epoch 47/50\n",
      "3106/3106 [==============================] - ETA: 0s - loss: 3.3405\n",
      "Epoch 00047: saving model to ./CheckPoint\\lstmCkipV2Cp.ckpt\n",
      "3106/3106 [==============================] - 822s 265ms/step - loss: 3.3405\n",
      "Epoch 48/50\n",
      "3106/3106 [==============================] - ETA: 0s - loss: 3.3264\n",
      "Epoch 00048: saving model to ./CheckPoint\\lstmCkipV2Cp.ckpt\n",
      "3106/3106 [==============================] - 820s 264ms/step - loss: 3.3264\n",
      "Epoch 49/50\n",
      "3106/3106 [==============================] - ETA: 0s - loss: 3.3133\n",
      "Epoch 00049: saving model to ./CheckPoint\\lstmCkipV2Cp.ckpt\n",
      "3106/3106 [==============================] - 825s 266ms/step - loss: 3.3133\n",
      "Epoch 50/50\n",
      "3106/3106 [==============================] - ETA: 0s - loss: 3.2995\n",
      "Epoch 00050: saving model to ./CheckPoint\\lstmCkipV2Cp.ckpt\n",
      "3106/3106 [==============================] - 840s 271ms/step - loss: 3.2995\n"
     ]
    }
   ],
   "source": [
    "EPOCHS = 50\n",
    "history = model.fit(\n",
    "    dataset, # 前面使用 tf.data 建構的資料集\n",
    "    epochs=EPOCHS,\n",
    "    callbacks=[cp_callback]\n",
    ")"
   ]
  },
  {
   "cell_type": "code",
   "execution_count": 23,
   "metadata": {
    "colab": {
     "base_uri": "https://localhost:8080/",
     "height": 295
    },
    "executionInfo": {
     "elapsed": 23,
     "status": "ok",
     "timestamp": 1652449862837,
     "user": {
      "displayName": "547蘇勁安",
      "userId": "12901927310267751394"
     },
     "user_tz": -480
    },
    "id": "xxbK80fXpOWD",
    "outputId": "ec8440a0-18a9-4090-d493-71737e2df866"
   },
   "outputs": [
    {
     "data": {
      "image/png": "[encoded data removed]",
      "text/plain": [
       "<Figure size 640x480 with 1 Axes>"
      ]
     },
     "metadata": {},
     "output_type": "display_data"
    }
   ],
   "source": [
    "plt.plot(history.history['loss'])\n",
    "plt.title('model loss')\n",
    "plt.ylabel('loss')\n",
    "plt.xlabel('epoch')\n",
    "\n",
    "plt.show()"
   ]
  },
  {
   "cell_type": "code",
   "execution_count": 24,
   "metadata": {
    "colab": {
     "base_uri": "https://localhost:8080/"
    },
    "executionInfo": {
     "elapsed": 11,
     "status": "ok",
     "timestamp": 1652449863952,
     "user": {
      "displayName": "547蘇勁安",
      "userId": "12901927310267751394"
     },
     "user_tz": -480
    },
    "id": "A3elbMNg4z4N",
    "outputId": "7528a5a6-253d-4042-f0b0-e343d0117865"
   },
   "outputs": [
    {
     "name": "stdout",
     "output_type": "stream",
     "text": [
      "原本的中文字序列：\n",
      "喂護士小姐什麼時候能來電吶你們這兒總停電啊這麼大\n",
      "----------------------------------------\n",
      "輸入進訓練後的model後獲得：\n",
      "\n",
      "喂小姐你時候來判斷出啦你是有有的我黑的\n"
     ]
    }
   ],
   "source": [
    "after_train_predictions = model(input_example)\n",
    "after_sampled_indices = tf.argmax(after_train_predictions[0],1)\n",
    "\n",
    "print(\"原本的中文字序列：\")\n",
    "[print(index2Word[ind],end=\"\") for ind in input_example[0].numpy()]\n",
    "print()\n",
    "print(\"-\"*40)\n",
    "print(\"輸入進訓練後的model後獲得：\")\n",
    "print()\n",
    "\n",
    "[print(index2Word[ind],end=\"\") for ind in after_sampled_indices.numpy()]\n",
    "print()"
   ]
  },
  {
   "cell_type": "code",
   "execution_count": 25,
   "metadata": {},
   "outputs": [],
   "source": [
    "modelName = 'LSTM_OpLab_CKIP_V2'\n",
    "model.save(\"./Model/\"+ modelName +\".h5\")\n",
    "# 保存模型权重的路径\n",
    "model.save_weights(\"./Model/\"+ modelName)\n",
    "jsonDict = json.dumps(word2Index, indent=2, ensure_ascii=False)\n",
    "with open ('./Model/' + modelName + '_dic.json', \"w\",  encoding=\"utf-8\") as outfile:\n",
    "    outfile.write(jsonDict)"
   ]
  },
  {
   "cell_type": "code",
   "execution_count": 26,
   "metadata": {},
   "outputs": [],
   "source": [
    "# 預測文字，並把預測文字循環當作下一次的輸入\n",
    "\n",
    "# 設定你的temperature\n",
    "temperature = 0.01\n",
    "\n",
    "def generateWords(input,words=500):\n",
    "    [print(index2Word[ind],end=\"\") for ind in input]\n",
    "    for i in range(words):\n",
    "        next_input = tf.expand_dims(input,axis=0)\n",
    "        predicts = model(next_input)\n",
    "        predicts = predicts[:,-1,:]\n",
    "        predicts /= temperature\n",
    "        result = tf.random.categorical(\n",
    "            predicts,num_samples=1\n",
    "        )\n",
    "        chinese_ind = tf.squeeze(result).numpy()\n",
    "        print(index2Word[chinese_ind],end=\"\")\n",
    "        input = input+[chinese_ind]\n",
    "        input = input[-seq_len:]"
   ]
  },
  {
   "cell_type": "code",
   "execution_count": 27,
   "metadata": {},
   "outputs": [
    {
     "name": "stdout",
     "output_type": "stream",
     "text": [
      "鬼情愫是虛道觀了山溝裏的人都會安娜羅丹不會勤快那是神仙的心死如灰老漢感慨萬千他看了一眼大吉利嚇得我齜牙咧嘴這時古予又猛地一拍杜燁的腦袋原來是桑木做成的是鬼的下身不僅商外樓跟進無的傳宗接代也不是很好據說有一個少有的城市就是一個人的家裏草木瘋長的瀰漫在今夜危機時代的輪胎上殘留在這個世界上過冬的魔鬼身材營長心胸嗯我馮楓僵屍了但見雲皓凡露出了滿意的微笑吱叫沿着她的右臉頰刺痛了他的臉上沒有絲毫的驚恐我壯漢一把抓住龍芹青嚇壞了我想着運程將要有一絲涼意衝上去將她釘上準備好的還要引人喫然後就會水落石出但他討口小馮翻轉過來車輛不斷地飄落下去車速快到冰快走方向小馮就無聲無息地衝出來在阿辰的身後戴林不敢出聲王二趕緊把門打開把門關上了小楊殺着興致地名叫雨水讓她活力無窮讓我銀山地想着興致提高了節約館兇悍啊一官半職的小攤換成了小碗漲得310~~還真是個別緻羅蘭蘭有點不好意思啊老海你在哪呢趕緊跑出去一個戴着白衣姑娘的屍體在煙前頭是個破破爛爛的老李邀請他去席間一個一個加油站這一帶家屬值上完幾天村西的月亮也沒有什麼微眯一攤張牙舞爪地往下尋但驚猛的門就在他身後他把戲已臨近凌晨四點多才心兒被柳潔如階層喝水做了個五百年的雞蛋我得意洋洋的看了看倒扣着一看牆頭上竟然有一灘血老公王哄好了都說不出話來了抽噎着說着成就向前申請起了八樓談婚開闊的小六子在顫顫抖抖的黑暗裏我莽莽的星星蠢蠢欲動我的青樓是林密就會飛起來刺向冰鰭的臉電到了我的脣微微的撕開脣着可非得變了顏色也白了棚屋裏面的味道學生會的傳統民俗也很吸引慶生們聯誼會以下是各種各種祭祀物品的也新鮮的一片亂葬崗就是這個村子光腳並且在我面前盤旋一般痛死了你淨油畜生我也發電機找了回過去就可以看出是一號了那個箱子然後他就把那根大鐵釘踢了藏起來那是一個大坑插花的甬道如同夜霧籠罩在大地深處的照射下發出一道道塵土古木若隱若現的閃爍着購得S君這是一個夥同演員在鐵牀上的人看們運了小站每家每戶都有很多的柴火王冠的遺孀假死術吸引少許而弄來了他的嘴就像一團受力自在她高大背對着他小黃燈帶着一股暖流在衆屋檐下以最快的速度逃到外邊去求這個鬼使車速的快要歸於平靜的人他英尺不見天氣睛現在我還真餓了呢血潑的啊!!!!!天哪我大叫一聲蓋好了他的衣兜我圍上我的葬身食堂的附上了高三的時候也沒有聽到鬧洞房的時候蕭便廁間地安放在溢出去裏宋小菊涼水靈敏甚至想司大成也被人們所感知到的是什麼那些人只是一個面熟一張紙條她的報復我也會將它放在花瓶裏我箱籠內澆飯去了一條輕重花崗作用力將中午裝在豬籠裏添加一些關於買到的東西擺脫着老山傑克的聲音我面相乃一切就得以模糊了我身生了訝異道今日順利的把高端現金給我閻王司令部一個都給了我一個人雪客杯在牆角就像是一個人的四肢被綁在在劫難逃一隻手裏阿布和古娜露出一張受阻熱播白玉樹超笑呵呵的我說陳放這是雲開算命先生說後也是稀客之人喫進去的那位古董表來謝就說游泳健進入寒夜的深處佯裝不得不讓人商戶遺書挖掘了一個山洞來到一個一層銅鏡前建斌被一座墳墓從山下第1785.間段了半個小時左右打圓場說也不爽褲腰帶朝崖前走了下去這個人是個騙子小馮也不敢去看他了一官半職的價格是莖在案板上畫了一封信不外啓示還有一個20元的徒弟去的小東說她在上沙村的發裏高爐的以及當地農民賣菜的一貧如洗上門請跟自己一起幹這個謊那個老頭一聽這話忽兒的聲音越來越低了眼裏點燃了一根香菸火冒三丈的夢夢中燒喫了好一陣子鼻子一口就把它扔了出去青城的時候我虛榮地盯着我看舉人我壽材店的那一類祭品就是唯恐審訊我說上闋所掃落的我不禁奇絕萬千歲月大自然與古小無風聯防隊員以爲有機會小偷女的去了穿街而去的辦公茅屋按照慣例邱老師鄭重地遊蛇而李大朋因爲一模一樣而吳老師的容顏就會露出肌膚的快感香蘭的雙眼裏只有一個念頭看準了她的胸腔和凝着的記憶突突的公元掉地後母後身後鬼影太子喊道謝大娘一看這口齒拉響了些許彆扭的哀嚎聲的聲音那是一個村南了十字架我知道那是一個喙的人那人急眼李叔怎麼看不見鬼我萬幸的是你碟片湖南人了小三打死了一個謀取杜招的貓記財主家裏的人叫了起來兇犯說小司不是第一個捕點兒致命的法律責任仇家就算再高明的話搗魔鬼可知九尾狐的身份中後期的村民們紛紛正中牆角新娘墨盒大極少清出這才發現了一件黑色t恤衣服鞋子上描寫的光鮮妖豔之物她上哨每逢買回來它們奴婢不知是語聲無情甚至嘆氣道是我的懸樑我奮力的向後倒去一層驚險攫住了微風血腥的血水我悠閒地馬龍從冥界裏透出的穿越江水之中我睡眼朦朧的聽了一眼這個女人摻白的聲音並沒有什麼讓自己日益暖意郝晴雪繼續說道這不是旅行團是皇軍陸子契約的責任使我德服人賈樂樂仍在猶豫之中等我走出房門的時候孫狄的心又狗哮了這個世界我取下一堆許諾豆芽形狀青磚如意個子女子摳掉了只見燕小北半點動情也不知怎麼了老弟呀一個你說拖把偏長的蛇一個人鮮明的披在身上汗毛倒豎司機道前面的路上有個奇怪的人膽子很大有一個無緣無故的光棍漢叫李紅跑過來拉着我往前走血花穿過馬路走到了橋面上在地上的風吹的黑黑的葉華就臥軌的吭吭的把他的名字給害死了他貼滿了河工也不知上山做的掄着酒菜逛了起來碎瓦在爲首的胸部顧海城驚叫地上插着一把尖刀刀子那女子裝作沒有娃子想商三官看了地圖緣難得便只有一個月就茂盛爲了我老家的十八年前的一個晚上我寫滿了好奇我在我的一瞪眼出現了很多年了我也知道我是誰我也不知道我在說什麼我不知道我在哪裏我是緊挨着管理室是我胡老漢寫道羽兒說栽植於這座城市裏過激的原氣森白掛着的是寶石外的 E:執意不收麻子藤籃裏跳了起來老劉着藍間一直價值起來他賁張只是震顫似睜開"
     ]
    }
   ],
   "source": [
    "cc = OpenCC('t2s')\n",
    "init_seq = cc.convert(\"鬼\")\n",
    "init_seq_ind = [word2Index[w] for w in init_seq]\n",
    "input = init_seq_ind[-seq_len:]\n",
    "\n",
    "generateWords(input,1500)"
   ]
  }
 ],
 "metadata": {
  "accelerator": "GPU",
  "colab": {
   "collapsed_sections": [],
   "name": "TextGeneration_108403547.ipynb",
   "provenance": []
  },
  "kernelspec": {
   "display_name": "IR-new",
   "language": "python",
   "name": "python3"
  },
  "language_info": {
   "codemirror_mode": {
    "name": "ipython",
    "version": 3
   },
   "file_extension": ".py",
   "mimetype": "text/x-python",
   "name": "python",
   "nbconvert_exporter": "python",
   "pygments_lexer": "ipython3",
   "version": "3.8.18"
  }
 },
 "nbformat": 4,
 "nbformat_minor": 4
}
