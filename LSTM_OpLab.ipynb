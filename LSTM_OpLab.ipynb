{
 "cells": [
  {
   "cell_type": "code",
   "execution_count": 1,
   "metadata": {
    "executionInfo": {
     "elapsed": 5641,
     "status": "ok",
     "timestamp": 1652446990874,
     "user": {
      "displayName": "547蘇勁安",
      "userId": "12901927310267751394"
     },
     "user_tz": -480
    },
    "id": "pPCmAo0Q_G3i"
   },
   "outputs": [
    {
     "name": "stderr",
     "output_type": "stream",
     "text": [
      "c:\\Users\\oplab\\.conda\\envs\\IR-new\\lib\\site-packages\\numpy\\_distributor_init.py:30: UserWarning: loaded more than 1 DLL from .libs:\n",
      "c:\\Users\\oplab\\.conda\\envs\\IR-new\\lib\\site-packages\\numpy\\.libs\\libopenblas.PYQHXLVVQ7VESDPUVUADXEVJOBGHJPAY.gfortran-win_amd64.dll\n",
      "c:\\Users\\oplab\\.conda\\envs\\IR-new\\lib\\site-packages\\numpy\\.libs\\libopenblas64__v0.3.21-gcc_10_3_0.dll\n",
      "  warnings.warn(\"loaded more than 1 DLL from .libs:\\n%s\" %\n"
     ]
    }
   ],
   "source": [
    "import numpy as np\n",
    "import pandas as pd\n",
    "import os\n",
    "import json\n",
    "import re\n",
    "import matplotlib.pyplot as plt\n",
    "from tensorflow import keras\n",
    "from tensorflow.keras import layers\n",
    "import tensorflow as tf\n",
    "from opencc import OpenCC"
   ]
  },
  {
   "cell_type": "code",
   "execution_count": 2,
   "metadata": {},
   "outputs": [
    {
     "data": {
      "text/plain": [
       "[PhysicalDevice(name='/physical_device:XLA_GPU:0', device_type='XLA_GPU')]"
      ]
     },
     "execution_count": 2,
     "metadata": {},
     "output_type": "execute_result"
    }
   ],
   "source": [
    "tf.config.list_physical_devices('XLA_GPU')\n",
    "# from tensorflow.python.client import device_lib\n",
    "# print(device_lib.list_local_devices())"
   ]
  },
  {
   "cell_type": "code",
   "execution_count": 3,
   "metadata": {},
   "outputs": [
    {
     "name": "stdout",
     "output_type": "stream",
     "text": [
      "1 Physical GPUs, 1 Logical GPU\n"
     ]
    }
   ],
   "source": [
    "import tensorflow as tf\n",
    "\n",
    "gpu_number = 2 #### GPU number \n",
    "gpus = tf.config.list_physical_devices('XLA_GPU')\n",
    "if gpus:\n",
    "    tf.config.experimental.set_visible_devices(gpus[0], 'XLA_GPU') \n",
    "    logical_gpus = tf.config.experimental.list_logical_devices('XLA_GPU')\n",
    "    print(len(gpus), \"Physical GPUs,\", len(logical_gpus), \"Logical GPU\")"
   ]
  },
  {
   "cell_type": "code",
   "execution_count": 4,
   "metadata": {},
   "outputs": [],
   "source": [
    "def strQ2B(ustring):\n",
    "    \"\"\"把字串空格全形轉半形\"\"\"\n",
    "    ss = []\n",
    "    for s in ustring:\n",
    "        rstring = \"\"\n",
    "        for uchar in s:\n",
    "            inside_code = ord(uchar)\n",
    "            if inside_code == 12288:  # 全形空格直接轉換\n",
    "                inside_code = 32\n",
    "            rstring += chr(inside_code)\n",
    "        ss.append(rstring)\n",
    "    return ''.join(ss)"
   ]
  },
  {
   "cell_type": "code",
   "execution_count": 5,
   "metadata": {},
   "outputs": [],
   "source": [
    "dataPath = './Data/Origin/'\n",
    "files = os.listdir(dataPath)\n",
    "allContent = ''\n",
    "for file in files:\n",
    "    with open(dataPath + file, 'r', encoding='utf-8') as fileRead:\n",
    "        tempFileJSON = json.load(fileRead)\n",
    "        tempContent = tempFileJSON['Context']\n",
    "        tempText = strQ2B(tempContent).replace(' ','').replace(\"\\n\", \"\").replace(\"\\r\", \"\").replace('*','')\n",
    "        tempText = re.sub(r'[★_-]', \"\", tempText)\n",
    "        allContent += tempText"
   ]
  },
  {
   "cell_type": "code",
   "execution_count": 6,
   "metadata": {
    "colab": {
     "base_uri": "https://localhost:8080/"
    },
    "executionInfo": {
     "elapsed": 3,
     "status": "ok",
     "timestamp": 1652446990874,
     "user": {
      "displayName": "547蘇勁安",
      "userId": "12901927310267751394"
     },
     "user_tz": -480
    },
    "id": "1Mbvzh_9_Tz8",
    "outputId": "ba705564-d18a-4657-f54f-0d9ffeb88c48"
   },
   "outputs": [
    {
     "name": "stdout",
     "output_type": "stream",
     "text": [
      "total: 10977077\n",
      "包含了5888 個獨一無二的字 (含標點符號)\n",
      "\n",
      "一这是我第三次到这里来，屋里的摆设还是很陈旧。我局促不安的站着，双手在胸前不停的揉搓着“我……我这次……”“我知道你来是为了什么，回去吧……”我对面的那个男人说话了，声音还是很有力。“可是也只有你了。”“没办法，我也不能清释她的血液。”“你一定会有办法的。”我争取着最后一丝希望，“你未免太小看四世的原血了吧。”那男人有些急了。“可，除了你，我也不知道去找谁了，你可是我能找到的最厉害的血猎了。”“出去吧。”男人最后说了一句。从大门走出来的时候，我感觉自己快死掉了，屋里的气氛确实很压抑。“该死的吸血鬼，没用的血猎。”我无力的诅咒着。“我自己总会有办法的，奥古斯特，等着。”我恨恨的说到。奥古斯特是一个吸血鬼。他是四世，现存唯一的四世。我是一个血猎。吸血鬼猎手。那男人是我的老师。看来，对于四世。我老师和我都……没有办法。二我再次站到117号门前。这里是一栋大别墅：墙壁上爬满绿油油的植物，连门上都是，正面的墙上的窗户都被钉上。似乎连光到这里都被什么东西吞噬了。我推开了门，走了进去：这里很阴冷，屋里很暗，几根蜡烛在墙角的烛台上烧着。两排楼梯通向二楼，楼梯中间，一副大油画，画中的人笑的很冷。“奥古斯特，”我对着油画大喊“我知道你在她也在。出来，我们谈谈。”“谈什么，小血猎。”一顾温柔到极致的声音从虚无中传来，我知道那是奥古斯特的声音“你又不能伤害到我，所以你想谈的根本没希望。”“放了她，好吗，我求你了。”我又一次没骨气了，在老师那次也一样。“谁?”我知道他明知故问。“方凌。”“哦，你说的一定是凌奥古斯特，她现在是我的女人。”“她的血液……”我喉咙沙哑。“放心，四世的原血没有这么快融合的，不过在我的帮助下也快了，现在你知道的够多了，走吧。”“我……让我在看看她……”我乞求着。“当她完全变成血族中的骄傲的时候，她会去找你。”然后奥古斯特有一次让我知道我们之间的差距，他把我扔出别墅，我甚至都没有看到他的脸。三我从地上爬起来，低着头，哭了，“方凌，我爱你。”我对着117号别墅吼着，“我要和你在一起。”，可别墅那边没有反应。我回家。走在街上，一个人都没有，我边走边哭。我爱她，我是血猎，可她马上要成为吸血鬼了。我还得去找他，那个让我成为血猎的男人，我的老师。这是我第四次来了，那男人还在单人沙发坐着，他都没有换过地方，“你去找奥古斯特了吧。”他说。我点点头“我该怎么办?”“没办法，即使你杀了奥\n"
     ]
    }
   ],
   "source": [
    "contentLength = len(allContent)\n",
    "uniqueWords = set(allContent)\n",
    "print(f\"total: {contentLength}\")\n",
    "print(f\"包含了{len(uniqueWords)} 個獨一無二的字 (含標點符號)\\n\")\n",
    "print(allContent[0:1000])"
   ]
  },
  {
   "cell_type": "code",
   "execution_count": 7,
   "metadata": {
    "executionInfo": {
     "elapsed": 459,
     "status": "ok",
     "timestamp": 1652446991331,
     "user": {
      "displayName": "547蘇勁安",
      "userId": "12901927310267751394"
     },
     "user_tz": -480
    },
    "id": "tQDQ8hxBEa6d"
   },
   "outputs": [],
   "source": [
    "# 計算字數統計\n",
    "wordsCount = {}\n",
    "for w in allContent:\n",
    "    if w in wordsCount:\n",
    "        wordsCount[w] += 1\n",
    "    else:\n",
    "        wordsCount[w] = 1\n",
    "\n",
    "wordsCount = sorted(wordsCount.items(),key=lambda x:x[1])"
   ]
  },
  {
   "cell_type": "code",
   "execution_count": 8,
   "metadata": {
    "colab": {
     "base_uri": "https://localhost:8080/"
    },
    "executionInfo": {
     "elapsed": 4,
     "status": "ok",
     "timestamp": 1652446991331,
     "user": {
      "displayName": "547蘇勁安",
      "userId": "12901927310267751394"
     },
     "user_tz": -480
    },
    "id": "VT90O679Fe0T",
    "outputId": "ea6d0a78-4e29-4b72-9a38-d1ed20784781"
   },
   "outputs": [
    {
     "name": "stdout",
     "output_type": "stream",
     "text": [
      "1436\n",
      "['ヽ', '冼', '岱', '埙', '桖', '噏', '呋', '艄', '鑵', '襻', '秣', '媲', '滲', '馑', '嘙', '汊', '進', '稞', '﹐', '﹑', '﹗', '躱', '説', '癜', '踼', '浯', '袼', '褙', '箬', '裰', '檎', '滇', '偁', '僖', '賓', '崚', '疴', '彔', '禇', '濮', '忭', '鸶', '秕', '扽', '褍', 'ㄧ', '滾', '牴', '脫', '棼', '逭', '讼', '睚', '嘇', '萻', '鄳', '畋', '煱', '浲', '鐏', '砻', '溧', '蓖', '犍', '陉', '刬', '蓊', '绐', 'ㄠ', '仞', '裨', '詈', '↖', '嫫', '幓', '砭', '焀', '咹', '忾', '铙', '锴', '髫', '椹', '葚', 'Ｖ', 'ｂ', 'ｈ', '殭', '廪', '蚨', '慝', '疡', '踔', '谵', '﹒', '鹳', '赑', '屃', '酎', '澶', '绀', '芪', '琛', '觌', '￼', '噍', '摃', '仳', '秿', '馓', '喱', '莜', '匈', '仫', '熘', '伧', '蚜', '钏', '岫', '彘', '寤', '△', '溼', '帼', '湫', '蠛', '桡', '镗', '跣', '蚍', '蜉', '龃', '龉', '舂', '磔', '醛', '塺', '烝', '徼', '牗', '蠖', '汆', '吣', '車', '憟', '溷', '牍', '溻', '枊', '暹', '螓', '褔', '徳', '孢', '♀', '∧', '宓', '隹', '阋', 'г', '砹', '畲', 'Α', '竽', '耖', '沬', '涪', '岬', '酰', '岵', '耆', 'ā', '＠', '寮', '螫', '嫠', '噁', '糅', '诨', '強', '垅', '垓', '窨', '査', '枸', '箓', '邕', '崂', '費', '勁', '潞', '戆', '嗌', '礞', '紮', '瘳', '‵', '′', '枰', '毽', '戰', '軍', '衛', '邙', '臟', '掤', '灏', '祉', '嵫', '菟', '芫', '俦', '谳', '蘅', '鳟', '捩', '愆', '尙', '鞑', '涑', 'Ⅱ', '赿', '朣', '谖', '宄', '嫒', '荩', '豢', '袷', '甑', 'ㄊ', '胪', '鞯', '┧', '摺', '郷', '塲', '妁', '栲', '俅', '№', '悱', '＝', '婵', '瀵', '㔾', '箪', '貉', '眊', '逵', '赅', '鲸', '厣', '狍', '竦', '囿', '蓆', '妽', '嘌', '柚', '荍', '瓿', '囯', '螯', '镲', '渤', '\\ue0e5', '\\ue063', '乿', '郏', '庑', '囟', '孖', '鄍', '锊', '莿', '冄', '疟', '°', '蝥', '卞', '碓', '翦', '圊', '倮', '姌', '耔', '喺', '蒯', '瞍', '幛', '尥', '缧', '诹', '駕', '叕', '〈', '〖', '〗', '﹏', '莠', '牾', '歆', '醴', 'í', '厩', '桷', '鹗', '碘', '肏', '荇', '麿', '圹', '蝹', 'ū', '缛', '帙', '涘', '麂', '陂', '痱', '芧', '訢', '昇', '壅', '愰', '眙', '鲛', '陴', '弼', '讦', '\\ue2e5', '绶', '飧', '椄', '妊', '娠', '擘', '擢', '缍', '邈', '镬', '墒', '娈', '畚', '挈', '笄', '缡', '蕖', '徂', '铩', '娉', '伛', '皲', '鳗', '臬', '呴', '潍', '凫', '疦', '滗', '碛', '嬅', '彝', '欸', '岙', '煺', '珞', '銭', '彳', '筮', '羲', '烽', '懣', '彊', '砟', '嵬', '餬', '雃', '氽', '闵', '斛', '踡', '棧', '臻', '溏', '帯', '佷', '绌', '麾', '悃', '趸', '蚰', '爙', '橛', '檄', '漬', '裉', '醭', '螅', '卮', '鞲', '阌', '篌', 'ヒ', 'ё', '篁', '诖', '埽', '猓', '鼋', '媸', '淦', '螟', '晣', '毖', '庖', '啉', '訴', '臌', '夼', '筢', '鸢', '砗', '啁', '傑', '暼', '•', '怙', '悛', '祜', '蜮', '龍', '咵', '苕', '鬃', '呰', '偱', '箥', '钤', '搛', '酢', '⒃', '钨', '釚', '掍', '缶', '簦', '薹', '哕', 'ǒ', '氮', '鸱', '孳', '蛞', '蝓', '惝', '畿', '阊', '闾', 'Ｃ', '甯', '負', '爍', '缽', '罰', '數', '寫', '慄', '馱', '樯', '捥', '冇', '陔', '約', '莅', '缳', '龅', '脍', '裏', '醧', '辎', '勝', '颉', '紗', '裝', '內', '嬾', '語', '遠', '掛', '颍', '聞', '揾', '彀', '鈅', '鹩', '狯', '蓐', '晳', '圏', '汴', '袈', '裟', '幪', '糥', '屄', '钡', '〕', '奌', '歺', '萸', '黔', '猷', '唛', '鮈', '诟', '氨', '跘', '懞', '誰', '坂', '\\x08', '鄹', '尜', '耨', '炝', '汞', '拊', '焗', '浚', '瞭', '嘡', '彿', '鳜', '↓', '↑', '遴', '吔', '○', '鬈', '溲', '曛', '槎', '虱', '茴', '锱', '铢', '燠', '淄', '芘', '郓', '浣', '渏', '塚', '抔', '奁', '鹭', '癣', '瓠', '珲', '來', '俸', '掊', '焯', '膑', '佉', '僮', '箅', '硄', '玺', '钹', '嗄', '嗐', '悭', '痿', '弁', '僳', '唑', '埔', '鞣', 'Ｔ', 'Ｒ', '俚', '粕', '荸', '荠', '诰', '砵', '殍', '怄', '馐', '闱', '呔', '酡', '豉', '鲠', '酶', '搦', '／', '浒', '髹', '橹', '棹', '铬', '菏', '樨', '顔', '蜱', '炁', '戌', '鳌', '钿', '跻', '晢', '讴', '溚', '衮', '＾', '裌', '庠', '璞', 'Ｎ', '呡', '榖', '睥', '咤', '鹞', '唦', '淙', 'Ｆ', '馔', '熹', '溽', '粝', '饬', '炤', '衢', '薜', '睢', '撷', '纾', '氯', '哏', '泾', '舶', '呑', '菽', '鋈', '裏', '徕', '疽', '鳃', '铰', '玮', '菘', '踊', '骊', '笊', '桎', '梏', '衾', '晤', '肄', '螈', '瘮', '娲', '蹓', '踅', '翮', '焙', '濛', '藐', '畀', '遅', 'す', 'ぎ', 'か', 'が', 'と', 'ど', '黙', 'っ', 'の', 'み', 'し', 'い', 'サ', 'イ', 'ン', '涿', '攮', '皋', '秫', '邳', '逶', '瘗', '镢', '潋', '滟', '鬏', '豕', '榫', '沪', '｀', '砬', '豌', '〉', '⊙', '桫', '嬛', '瘢', '柒', '鸩', '昴', '蹁', '跹', '蒹', '葭', '躶', '愍', '啭', '绥', '樽', '柰', '缟', '泅', '慥', '柑', '诣', '蕨', '昽', '亍', '浠', '箴', '札', '笞', '鬯', '蔌', '嫋', '鬻', '←', '┅', '暝', '轼', '雎', '荚', '蝨', '儋', '傈', '挻', 'ｐ', '骟', '佞', '枇', '⑿', '⒀', '⒁', '⒂', '⒄', '⒅', '⒆', '⒇', '瞽', '晷', 'Ｅ', 'Ｄ', 'Ｑ', '讓', '訶', '垩', '妗', '抺', '簾', '珅', '眄', '蚩', '硪', '椿', '⑤', '⑥', '⑦', '⑧', '⑨', '⑩', '谚', '跗', '觐', '糨', '→', 'ㄡ', '粲', '岿', '赭', '鹫', '蝾', '祺', '屐', '侩', '隽', '睃', '牠', '汾', '氅', '蝼', '贲', '嶂', 'ǐ', '％', '骥', '橼', '℃', '缙', '＇', '堑', '肱', '铧', '诮', '悌', '稷', '鲫', '敖', '嵴', '磐', '埸', '傧', '潲', '跐', 'Ｂ', '訇', '槃', '緾', '嵊', '氢', '芍', '銮', '囹', '圄', '妣', '崛', '錾', '罅', '谥', '煜', '蝌', '蚪', '仟', '嗉', '蔗', '胱', '椤', '遒', '娣', '翳', '刍', '呶', '橄', '缱', '淖', '绡', '洌', '鲇', '珰', '锏', '箫', '皖', '讧', '荟', '々', '沤', '戊', '圮', '讫', '诿', '蟠', '懿', '\\x18', '宪', '磺', '瓤', '鹄', '蛎', '饯', '徵', '–', '邯', '郸', '煨', '劁', '谀', '睇', 'Ｍ', 'さ', '陲', '弭', '酞', '抨', '箸', '杼', '捍', '蛔', '叻', '岀', '獭', '扞', 'ｏ', '淩', '徜', '圜', '膻', '湓', '倷', '菖', '眇', '飚', '黒', '浭', '⑾', '蟮', 'π', '摈', '●', '泸', '赈', '胤', '杷', '瘊', 'Ｏ', 'Ｉ', '焐', '無', '盧', '薩', '嫰', '睾', '妲', '①', '②', '③', '④', '篑', '榈', '蘼', '蜇', '┌', '┐', 'ㄎ', '洱', '喑', '渭', '蓟', '膳', '氟', '隼', '锺', '丕', '嵇', '斫', '吒', '腱', '滕', '胼', '喟', '愎', '帔', '邑', '遨', '敕', '弑', '徙', '擤', '贻', '桉', '僭', '闍', '酋', '胰', '禳', '诳', '亟', '伢', '癯', 'ｒ', '榄', '绦', '谝', '沒', '腩', '轶', '齑', '泫', '飨', '傣', '恚', '癒', '瓒', '〃', '恫', '斡', '哚', '谪', '淛', '髙', '媤', '藩', '酉', '酚', '戍', '壬', '啻', '痫', '胄', '蓍', '炀', '畦', '乜', '铆', '\\\\', '悖', '猢', '狲', '嗳', '纡', '苪', '锲', '抟', '萁', '韪', '〔', 'た', 'き', '舛', '嬲', '鎏', '撴', '茏', '勳', '筌', '鎝', '弈', '赣', '螳', '夔', '哙', '耒', '疱', '澹', '蒽', '哂', '峒', '绉', 'ｍ', '镔', '咁', '媾', '呖', '揿', '洮', '埠', '诽', '┬', '┘', '└', '┴', '罂', '儆', '菅', '骛', '鳏', '遽', '痂', '姹', '驷', '饴', '倭', '黧', '叟', '戗', '阙', '鼬', '刎', '硅', '棣', '躅', '柘', '釜', '醚', '褡', '裢', '晩', 'ｘ', '爿', '毂', '徇', '蚤', '蜍', '灸', '吽', '貂', '巽', '椽', '鲈', '骘', '镁', '鸹', '劾', '铤', '臜', '贰', '揎', '腴', '疖', '昙', '渥', '痈', '俎', '纂', '绻', '篦', '焖', '囧', '纣', '倨', '熨', 'Ｇ', '氖', '湟', '檩', '忱', '暨', '歼', 'Ｌ', 'Ｐ', '缒', '痍', '䦆', '薨', '榛', '箝', '佃', '阐', '＋', '菓', '偈', '殚', '圪', '瘙', '轲', '笈', '蹼', '伥', '哔', 'ㄌ', '崃', '囉', '垭', '阆', '濯', '鳄', '掴', '噻', '卅', '酪', '嫡', '曷', '谒', '┤', '裱', '骜', '勋', '倆', '腭', '豺', '煅', '吡', '诓', '宕', '涝', '蜢', '谆', '谏', '犷', '烩', '钾', '杞', '瑚', '珺', '玳', '踯', '祇', '橇', '嵘', '蟾', '罄', '刈', '钎', '鹌', '痢', '镂', '噹', '雹', '潼', '懔', '叁', '铻', '戎', '诏', '旖', '旎', '黍', '奓', '栉', '蕙', '羚', '旌', '噘', '麓', '绮', '屙', '耘', '姝', '堋', '嫔', '镪', '魃', 'も', '鹜', '闫', '狺', '阄', '茕', '吥', '邛', '猞', '猁', '糜', '纰', '舵', '舷', '筵', '├', '逑', '襄', '倌', '鸷', '廿', '诙', '骡', '桅', '貔', '貅', '蹰', '聩', '跎', '餮', '礴', '嗟', '掼', '椰', '鹑', '瑁', '鏖', '冕', '侗', '妯', '娌', '忸', '怩', '缜', '胺', '迩', '巩', '蛹', '鸠', 'ｅ', 'ｉ', 'ｔ', '缢', '篙', '孵', '弩', '赁', '唷', '糁', '楔', '夥', 'ㄟ', '厝', '诠', '馀', '璇', '衿', '彗', 'Ｈ', '铂', '蓑', '氐', '靛', '殄', '耄', '耋', '霭', '沂', '倜', '煳', '獐', '磙', '铣', 'Ｋ', '咭', '嗙', '矸', '奂', '虬', '稔', '蛟', '闰', '谤', '纫', '镌', '麸', '迄', '┼', '莘', '泱', '逡', '弋', '糗', '砥', '泓', '谗', '雌', '踽', '踟', '妳', '瀚', '赧', '汲', '诘', '牒', '帛', '眦', '墀', '噫', '〇', '阡', '跶', '啖', '矶', '镑', '纨', '绔', '喙', '颦', '葆', '抒', '鏊', '皴', '颂', '篾', '唁', '寅', '驹', '嘬', '剽', '褒', '哞', '嬷', '帏', '薏', '锛', '赝', '蒌', '铡', '巅', '汛', '闽', '圭', '驽', '牯', '珈', '饽', '阕', '亥', '蚱', '阒', '诋', '醍', '醐', '薅', '颀', '矜', '旸', '痨', '髯', '牟', '锒', '渚', '唳', '阜', '峪', '嘹', '拚', '搽', '伉', '俪', '箔', '浜', '铠', '淬', '淆', '募', '镚', '饷', '袤', '遑', '豚', '笸', '捯', '戟', '舰', '恁', '堰', '笤', '陇', '瘴', '爻', '阉', '﹕', '勐', '蚺', '埕', '翀', '漕', '筠', '庾']\n"
     ]
    }
   ],
   "source": [
    "notFrequentWordsCount = 10\n",
    "notFrequentWords = [_[0] for _ in wordsCount if _[1]<notFrequentWordsCount]\n",
    "print(f\"{len(notFrequentWords)}\")\n",
    "print(notFrequentWords)"
   ]
  },
  {
   "cell_type": "code",
   "execution_count": 9,
   "metadata": {
    "colab": {
     "base_uri": "https://localhost:8080/"
    },
    "executionInfo": {
     "elapsed": 29305,
     "status": "ok",
     "timestamp": 1652447020633,
     "user": {
      "displayName": "547蘇勁安",
      "userId": "12901927310267751394"
     },
     "user_tz": -480
    },
    "id": "e_uP5gOVIy2K",
    "outputId": "cbb8f0b3-166b-473a-eb63-c011dee64d58"
   },
   "outputs": [
    {
     "name": "stdout",
     "output_type": "stream",
     "text": [
      "origin length 10977077\n",
      "去除不常出現的文字後\n",
      "剩餘10972533個字\n"
     ]
    },
    {
     "data": {
      "text/plain": [
       "'一这是我第三次到这里来，屋里的摆设还是很陈旧。我局促不安的站着，双手在胸前不停的揉搓着“我……我这次……”“我知道你来是为了什么，回去吧……”我对面的那个男人说话了，声音还是很有力。“可是也只有你了。”“没办法，我也不能清释她的血液。”“你一定会有办法的。”我争取着最后一丝希望，“你未免太小看四世的原血了吧。”那男人有些急了。“可，除了你，我也不知道去找谁了，你可是我能找到的最厉害的血猎了。”“出去吧。”男人最后说了一句。从大门走出来的时候，我感觉自己快死掉了，屋里的气氛确实很压抑。“该死的吸血鬼，没用的血猎。”我无力的诅咒着。“我自己总会有办法的，奥古斯特，等着。”我恨恨的说到。奥古斯特是一个吸血鬼。他是四世，现存唯一的四世。我是一个血猎。吸血鬼猎手。那男人是我的老师。看来，对于四世。我老师和我都……没有办法。二我再次站到117号门前。这里是一栋大别墅：墙壁上爬满绿油油的植物，连门上都是，正面的墙上的窗户都被钉上。似乎连光到这里都被什么东西吞噬了。我推开了门，走了进去：这里很阴冷，屋里很暗，几根蜡烛在墙角的烛台上烧着。两排楼梯通向二楼，楼梯中间，一副大油画，画中的人笑的很冷。“奥古斯'"
      ]
     },
     "execution_count": 9,
     "metadata": {},
     "output_type": "execute_result"
    }
   ],
   "source": [
    "print(f\"origin length {contentLength}\")\n",
    "print(f\"去除不常出現的文字後\")\n",
    "for removeWord in notFrequentWords:\n",
    "    allContent = allContent.replace(removeWord, '')\n",
    "uniqueWords = set(allContent)\n",
    "print(f\"剩餘{len(allContent)}個字\")\n",
    "allContent[:500]"
   ]
  },
  {
   "cell_type": "code",
   "execution_count": 10,
   "metadata": {
    "colab": {
     "base_uri": "https://localhost:8080/"
    },
    "executionInfo": {
     "elapsed": 6,
     "status": "ok",
     "timestamp": 1652447020633,
     "user": {
      "displayName": "547蘇勁安",
      "userId": "12901927310267751394"
     },
     "user_tz": -480
    },
    "id": "6LP0BwFDAmcS",
    "outputId": "a082dad7-3cd9-4910-b24a-911a0f039b9f"
   },
   "outputs": [
    {
     "name": "stdout",
     "output_type": "stream",
     "text": [
      "原始文字 : \n",
      "一这是我第三次到这里来，屋里的摆设还是很陈旧。我局促不安的站着，双手在胸前不停的\n",
      "轉成index : \n",
      "{650, 1290, 1933, 3985, 3097, 30, 4260, 935, 2088, 425, 1195, 1918, 1074, 3767, 1209, 1093, 2630, 3145, 1995, 3534, 4049, 4177, 2005, 1116, 1762, 3557, 1639, 1895, 4335, 1522, 2814, 1791}\n"
     ]
    }
   ],
   "source": [
    "# 文字轉數字(index)\n",
    "word2Index = {word:index for index,word in enumerate(uniqueWords)}\n",
    "index2Word = {word2Index[word]:word for word in word2Index}\n",
    "\n",
    "content2Index = [word2Index[w] for w in allContent]\n",
    "\n",
    "print(\"原始文字 : \")\n",
    "print(allContent[:40])\n",
    "print(\"轉成index : \")\n",
    "print({word2Index[w] for w in allContent[:40]})"
   ]
  },
  {
   "cell_type": "code",
   "execution_count": 11,
   "metadata": {
    "executionInfo": {
     "elapsed": 4,
     "status": "ok",
     "timestamp": 1652447020633,
     "user": {
      "displayName": "547蘇勁安",
      "userId": "12901927310267751394"
     },
     "user_tz": -480
    },
    "id": "H-KDv4kqgxLH"
   },
   "outputs": [],
   "source": [
    "def ind2word_seq(seq):\n",
    "    return [index2Word[i] for i in seq]"
   ]
  },
  {
   "cell_type": "code",
   "execution_count": 12,
   "metadata": {
    "colab": {
     "base_uri": "https://localhost:8080/"
    },
    "executionInfo": {
     "elapsed": 4831,
     "status": "ok",
     "timestamp": 1652447025461,
     "user": {
      "displayName": "547蘇勁安",
      "userId": "12901927310267751394"
     },
     "user_tz": -480
    },
    "id": "_aDyjJymDmVv",
    "outputId": "fa1c548d-14d6-49be-fb55-d214fc54e236"
   },
   "outputs": [
    {
     "name": "stdout",
     "output_type": "stream",
     "text": [
      "(101,)\n",
      "tf.Tensor(\n",
      "[3985 1639 2814 1195 1918 2005 1895 4260 1639 1522   30 1995 3767 1522\n",
      " 3145  650 2088 1933 2814 4049 1762 1093 1209 1195 3097 4335 1074 1791\n",
      " 3145 1116  425 1995  935 2630 3534 1290 3557 1074 4177 3145 3091  388\n",
      "  425 3336 1195 3664 3664 1195 1639 1895 3664 3664 3293 3336 1195  859\n",
      " 3742  437   30 2814  811 4337 2513  873 1995 1100  753   59 3664 3664\n",
      " 3293 1195 2907 4037 3145 2096 3897  204 4295 4234 2399 4337 1995 1684\n",
      " 2471 1933 2814 4049 2017 1577 1209 3336 2422 2814 1760 3212 2017  437\n",
      " 4337 1209 3293], shape=(101,), dtype=int32)\n",
      "['一', '这', '是', '我', '第', '三', '次', '到', '这', '里', '来', '，', '屋', '里', '的', '摆', '设', '还', '是', '很', '陈', '旧', '。', '我', '局', '促', '不', '安', '的', '站', '着', '，', '双', '手', '在', '胸', '前', '不', '停', '的', '揉', '搓', '着', '“', '我', '…', '…', '我', '这', '次', '…', '…', '”', '“', '我', '知', '道', '你', '来', '是', '为', '了', '什', '么', '，', '回', '去', '吧', '…', '…', '”', '我', '对', '面', '的', '那', '个', '男', '人', '说', '话', '了', '，', '声', '音', '还', '是', '很', '有', '力', '。', '“', '可', '是', '也', '只', '有', '你', '了', '。', '”']\n",
      "(101,)\n",
      "tf.Tensor(\n",
      "[3336 3501 2195 2269 1995 1195 1760 1074 3788 1672 3296  183 3145  933\n",
      " 2249 1209 3293 3336  437 3985 4198 2226 2017 2195 2269 3145 1209 3293\n",
      " 1195 2235 2191  425 2952 3143 3985 2752 3151  572 1995 3336  437 1701\n",
      "  578 2501 1674 1369 3234 3548 3145 1331  933 4337   59 1209 3293 2096\n",
      "  204 4295 2017 2002 2636 4337 1209 3336 2422 1995 2995 4337  437 1995\n",
      " 1195 1760 1074  859 3742  753 3679 4055 4337 1995  437 2422 2814 1195\n",
      " 3788 3679 4260 3145 2952  907 3911 3145  933 2318 4337 1209 3293 3336\n",
      " 1647  753   59], shape=(101,), dtype=int32)\n",
      "['“', '没', '办', '法', '，', '我', '也', '不', '能', '清', '释', '她', '的', '血', '液', '。', '”', '“', '你', '一', '定', '会', '有', '办', '法', '的', '。', '”', '我', '争', '取', '着', '最', '后', '一', '丝', '希', '望', '，', '“', '你', '未', '免', '太', '小', '看', '四', '世', '的', '原', '血', '了', '吧', '。', '”', '那', '男', '人', '有', '些', '急', '了', '。', '“', '可', '，', '除', '了', '你', '，', '我', '也', '不', '知', '道', '去', '找', '谁', '了', '，', '你', '可', '是', '我', '能', '找', '到', '的', '最', '厉', '害', '的', '血', '猎', '了', '。', '”', '“', '出', '去', '吧']\n"
     ]
    }
   ],
   "source": [
    "# 設定輸入模型長度\n",
    "seq_len = 100\n",
    "characters = tf.data.Dataset.from_tensor_slices(content2Index)\n",
    "\n",
    "sequences = characters.batch(seq_len+1,drop_remainder=True)\n",
    "\n",
    "for seq in sequences.take(2):\n",
    "    print(seq.shape)\n",
    "    print(seq)\n",
    "    print([index2Word[i] for i in seq.numpy()])"
   ]
  },
  {
   "cell_type": "code",
   "execution_count": 13,
   "metadata": {
    "colab": {
     "base_uri": "https://localhost:8080/"
    },
    "executionInfo": {
     "elapsed": 8,
     "status": "ok",
     "timestamp": 1652447025461,
     "user": {
      "displayName": "547蘇勁安",
      "userId": "12901927310267751394"
     },
     "user_tz": -480
    },
    "id": "jhFC16MdLONw",
    "outputId": "e786c858-0952-4e1f-cedf-e1c78acbe9bb"
   },
   "outputs": [],
   "source": [
    "# 做input、target切割\n",
    "def split_input_target(seq):\n",
    "    input_txt = seq[:-1]\n",
    "    target_txt = seq[1:]\n",
    "    return input_txt,target_txt"
   ]
  },
  {
   "cell_type": "code",
   "execution_count": 14,
   "metadata": {
    "colab": {
     "base_uri": "https://localhost:8080/"
    },
    "executionInfo": {
     "elapsed": 533,
     "status": "ok",
     "timestamp": 1652447025990,
     "user": {
      "displayName": "547蘇勁安",
      "userId": "12901927310267751394"
     },
     "user_tz": -480
    },
    "id": "qnJ4Bdj2gZ1V",
    "outputId": "39a7de28-ddd6-48f4-ed04-215b20d43c32"
   },
   "outputs": [
    {
     "name": "stdout",
     "output_type": "stream",
     "text": [
      "Input : ['一', '这', '是', '我', '第', '三', '次', '到', '这', '里', '来', '，', '屋', '里', '的', '摆', '设', '还', '是', '很', '陈', '旧', '。', '我', '局', '促', '不', '安', '的', '站', '着', '，', '双', '手', '在', '胸', '前', '不', '停', '的', '揉', '搓', '着', '“', '我', '…', '…', '我', '这', '次', '…', '…', '”', '“', '我', '知', '道', '你', '来', '是', '为', '了', '什', '么', '，', '回', '去', '吧', '…', '…', '”', '我', '对', '面', '的', '那', '个', '男', '人', '说', '话', '了', '，', '声', '音', '还', '是', '很', '有', '力', '。', '“', '可', '是', '也', '只', '有', '你', '了', '。']\n",
      "Target: ['这', '是', '我', '第', '三', '次', '到', '这', '里', '来', '，', '屋', '里', '的', '摆', '设', '还', '是', '很', '陈', '旧', '。', '我', '局', '促', '不', '安', '的', '站', '着', '，', '双', '手', '在', '胸', '前', '不', '停', '的', '揉', '搓', '着', '“', '我', '…', '…', '我', '这', '次', '…', '…', '”', '“', '我', '知', '道', '你', '来', '是', '为', '了', '什', '么', '，', '回', '去', '吧', '…', '…', '”', '我', '对', '面', '的', '那', '个', '男', '人', '说', '话', '了', '，', '声', '音', '还', '是', '很', '有', '力', '。', '“', '可', '是', '也', '只', '有', '你', '了', '。', '”']\n",
      "--------------------------------------------------\n",
      "Input : [3985 1639 2814 1195 1918 2005 1895 4260 1639 1522   30 1995 3767 1522\n",
      " 3145  650 2088 1933 2814 4049 1762 1093 1209 1195 3097 4335 1074 1791\n",
      " 3145 1116  425 1995  935 2630 3534 1290 3557 1074 4177 3145 3091  388\n",
      "  425 3336 1195 3664 3664 1195 1639 1895 3664 3664 3293 3336 1195  859\n",
      " 3742  437   30 2814  811 4337 2513  873 1995 1100  753   59 3664 3664\n",
      " 3293 1195 2907 4037 3145 2096 3897  204 4295 4234 2399 4337 1995 1684\n",
      " 2471 1933 2814 4049 2017 1577 1209 3336 2422 2814 1760 3212 2017  437\n",
      " 4337 1209]\n",
      "Target: [1639 2814 1195 1918 2005 1895 4260 1639 1522   30 1995 3767 1522 3145\n",
      "  650 2088 1933 2814 4049 1762 1093 1209 1195 3097 4335 1074 1791 3145\n",
      " 1116  425 1995  935 2630 3534 1290 3557 1074 4177 3145 3091  388  425\n",
      " 3336 1195 3664 3664 1195 1639 1895 3664 3664 3293 3336 1195  859 3742\n",
      "  437   30 2814  811 4337 2513  873 1995 1100  753   59 3664 3664 3293\n",
      " 1195 2907 4037 3145 2096 3897  204 4295 4234 2399 4337 1995 1684 2471\n",
      " 1933 2814 4049 2017 1577 1209 3336 2422 2814 1760 3212 2017  437 4337\n",
      " 1209 3293]\n"
     ]
    }
   ],
   "source": [
    "dataset = sequences.map(split_input_target)\n",
    "\n",
    "for input_example,target_exaple in dataset.take(1):\n",
    "    print(\"Input :\", ind2word_seq(input_example.numpy()))\n",
    "    print(\"Target:\", ind2word_seq(target_exaple.numpy()))\n",
    "    print(\"-\"*50)\n",
    "    print(\"Input :\", input_example.numpy())\n",
    "    print(\"Target:\", target_exaple.numpy())"
   ]
  },
  {
   "cell_type": "code",
   "execution_count": 15,
   "metadata": {
    "colab": {
     "base_uri": "https://localhost:8080/"
    },
    "executionInfo": {
     "elapsed": 8,
     "status": "ok",
     "timestamp": 1652447025990,
     "user": {
      "displayName": "547蘇勁安",
      "userId": "12901927310267751394"
     },
     "user_tz": -480
    },
    "id": "UNivSh2Igr2-",
    "outputId": "3d39c499-dc23-4307-d16d-e770d72f3c94"
   },
   "outputs": [
    {
     "data": {
      "text/plain": [
       "<BatchDataset shapes: ((128, 100), (128, 100)), types: (tf.int32, tf.int32)>"
      ]
     },
     "execution_count": 15,
     "metadata": {},
     "output_type": "execute_result"
    }
   ],
   "source": [
    "# 建立資料集\n",
    "# Batch size\n",
    "BATCH_SIZE = 128\n",
    "\n",
    "BUFFER_SIZE = 10000\n",
    "\n",
    "dataset = (\n",
    "    dataset\n",
    "    .shuffle(BUFFER_SIZE)\n",
    "    .batch(BATCH_SIZE, drop_remainder=True))\n",
    "\n",
    "dataset"
   ]
  },
  {
   "cell_type": "code",
   "execution_count": 16,
   "metadata": {
    "colab": {
     "base_uri": "https://localhost:8080/"
    },
    "executionInfo": {
     "elapsed": 67611,
     "status": "ok",
     "timestamp": 1652447093595,
     "user": {
      "displayName": "547蘇勁安",
      "userId": "12901927310267751394"
     },
     "user_tz": -480
    },
    "id": "UkRcSZAHnxlk",
    "outputId": "decb5171-3c95-4ef5-b398-3b2a3541aa21"
   },
   "outputs": [
    {
     "name": "stdout",
     "output_type": "stream",
     "text": [
      "Model: \"sequential\"\n",
      "_________________________________________________________________\n",
      "Layer (type)                 Output Shape              Param #   \n",
      "=================================================================\n",
      "embedding (Embedding)        (None, None, 512)         2279424   \n",
      "_________________________________________________________________\n",
      "lstm (LSTM)                  (None, None, 2048)        20979712  \n",
      "_________________________________________________________________\n",
      "lstm_1 (LSTM)                (None, None, 1024)        12587008  \n",
      "_________________________________________________________________\n",
      "dense (Dense)                (None, None, 4452)        4563300   \n",
      "=================================================================\n",
      "Total params: 40,409,444\n",
      "Trainable params: 40,409,444\n",
      "Non-trainable params: 0\n",
      "_________________________________________________________________\n"
     ]
    }
   ],
   "source": [
    "# 超參數\n",
    "EMBEDDING_DIM = 512\n",
    "\n",
    "# 使用 keras 建立一個非常簡單的 LSTM 模型\n",
    "model = tf.keras.Sequential()\n",
    "\n",
    "model.add(\n",
    "  tf.keras.layers.Embedding(\n",
    "    input_dim=len(uniqueWords), \n",
    "    output_dim=EMBEDDING_DIM\n",
    "))\n",
    "\n",
    "model.add(\n",
    "  tf.keras.layers.LSTM(\n",
    "    units=2048, \n",
    "    return_sequences=True, \n",
    "))\n",
    "\n",
    "model.add(\n",
    "  tf.keras.layers.LSTM(\n",
    "    units=1024, \n",
    "    return_sequences=True,\n",
    "))\n",
    "  \n",
    "model.add(\n",
    "  tf.keras.layers.Dense(\n",
    "      len(uniqueWords),activation=\"softmax\"))\n",
    "\n",
    "model.summary()"
   ]
  },
  {
   "cell_type": "code",
   "execution_count": 17,
   "metadata": {
    "colab": {
     "base_uri": "https://localhost:8080/"
    },
    "executionInfo": {
     "elapsed": 4454,
     "status": "ok",
     "timestamp": 1652447098041,
     "user": {
      "displayName": "547蘇勁安",
      "userId": "12901927310267751394"
     },
     "user_tz": -480
    },
    "id": "YKiszF5doFGz",
    "outputId": "d0954123-aaaf-49fc-9598-dcc1ec6505c4"
   },
   "outputs": [
    {
     "name": "stdout",
     "output_type": "stream",
     "text": [
      "Model input shape : (128, 100)\n",
      "Model output shape : (128, 100, 4452)\n",
      "Model target shape : (128, 100)\n"
     ]
    }
   ],
   "source": [
    "# 查看模型的輸入、輸出 shape\n",
    "for input_example,target_exaple in dataset.take(1):\n",
    "    predict_example = model(input_example)\n",
    "    print(f\"Model input shape : {input_example.shape}\")\n",
    "    print(f\"Model output shape : {predict_example.shape}\")\n",
    "    print(f\"Model target shape : {target_exaple.shape}\")"
   ]
  },
  {
   "cell_type": "code",
   "execution_count": 18,
   "metadata": {
    "colab": {
     "base_uri": "https://localhost:8080/"
    },
    "executionInfo": {
     "elapsed": 10,
     "status": "ok",
     "timestamp": 1652447098041,
     "user": {
      "displayName": "547蘇勁安",
      "userId": "12901927310267751394"
     },
     "user_tz": -480
    },
    "id": "CsN6Zz4NReV4",
    "outputId": "0e397697-55b0-42cf-c88e-af600b44fe55"
   },
   "outputs": [
    {
     "name": "stdout",
     "output_type": "stream",
     "text": [
      "原本的中文字序列：\n",
      "边。”她满不在乎地抬手指向前面，“看到那个白色的顶了吗?那里就是女生宿舍楼。”我顺着她指的方向望去，绿荫中确实有一些白晃晃的房子的影子。“谢谢。”我刚要往前走，却被她喊住：“你等等!”“什么事啊?”我\n",
      "----------------------------------------\n",
      "輸入尚未訓練的model後獲得：\n",
      "\n",
      "睬啤吕吕吕吕吕贷弘弘巴巴巴巴奥铄铄碰碰熊数数阑数数阑嘈社社hhh综冠冠冠冠展褶异异异异蔽蔽蔽蔽乘盔铝畜畜乘脊脊必必霄霄蛊饭饭饭饭饭饭葬察丑丑赖赖赖楚楚楚楚椎第第第楚纳纳纳纳拳拳拳兑兑兑秋见见抚见见见架\n"
     ]
    }
   ],
   "source": [
    "print(\"原本的中文字序列：\")\n",
    "[print(index2Word[ind],end=\"\") for ind in input_example[0].numpy()]\n",
    "print()\n",
    "print(\"-\"*40)\n",
    "print(\"輸入尚未訓練的model後獲得：\")\n",
    "print()\n",
    "\n",
    "predict_words = tf.math.argmax(predict_example[0],-1)\n",
    "[print(index2Word[ind],end=\"\") for ind in predict_words.numpy()]\n",
    "print()"
   ]
  },
  {
   "cell_type": "code",
   "execution_count": 20,
   "metadata": {
    "executionInfo": {
     "elapsed": 6,
     "status": "ok",
     "timestamp": 1652447098041,
     "user": {
      "displayName": "547蘇勁安",
      "userId": "12901927310267751394"
     },
     "user_tz": -480
    },
    "id": "unPfQAQBonFj"
   },
   "outputs": [],
   "source": [
    "checkpoint_path = \"./CheckPoint/ckipCp.ckpt\"\n",
    "checkpoint_dir = os.path.dirname(checkpoint_path)\n",
    "\n",
    "# Create a callback that saves the model's weights\n",
    "cp_callback = tf.keras.callbacks.ModelCheckpoint(filepath=checkpoint_path, save_weights_only=True, verbose=1)\n",
    "model.compile(loss=\"sparse_categorical_crossentropy\",optimizer=\"adam\")"
   ]
  },
  {
   "cell_type": "code",
   "execution_count": 21,
   "metadata": {
    "colab": {
     "base_uri": "https://localhost:8080/"
    },
    "executionInfo": {
     "elapsed": 2764800,
     "status": "ok",
     "timestamp": 1652449862836,
     "user": {
      "displayName": "547蘇勁安",
      "userId": "12901927310267751394"
     },
     "user_tz": -480
    },
    "id": "5IW5xiiMpJhJ",
    "outputId": "d091f5ab-d2d3-4a23-92b6-7cc306335a81",
    "scrolled": true
   },
   "outputs": [
    {
     "name": "stdout",
     "output_type": "stream",
     "text": [
      "Epoch 1/30\n",
      "848/848 [==============================] - ETA: 0s - loss: 6.1435\n",
      "Epoch 00001: saving model to ./CheckPoint\\ckipCp.ckpt\n",
      "848/848 [==============================] - 477s 563ms/step - loss: 6.1435\n",
      "Epoch 2/30\n",
      "848/848 [==============================] - ETA: 0s - loss: 5.1965\n",
      "Epoch 00002: saving model to ./CheckPoint\\ckipCp.ckpt\n",
      "848/848 [==============================] - 486s 573ms/step - loss: 5.1965\n",
      "Epoch 3/30\n",
      "848/848 [==============================] - ETA: 0s - loss: 4.5292\n",
      "Epoch 00003: saving model to ./CheckPoint\\ckipCp.ckpt\n",
      "848/848 [==============================] - 487s 575ms/step - loss: 4.5292\n",
      "Epoch 4/30\n",
      "848/848 [==============================] - ETA: 0s - loss: 4.1736\n",
      "Epoch 00004: saving model to ./CheckPoint\\ckipCp.ckpt\n",
      "848/848 [==============================] - 487s 575ms/step - loss: 4.1736\n",
      "Epoch 5/30\n",
      "848/848 [==============================] - ETA: 0s - loss: 3.9757\n",
      "Epoch 00005: saving model to ./CheckPoint\\ckipCp.ckpt\n",
      "848/848 [==============================] - 488s 575ms/step - loss: 3.9757\n",
      "Epoch 6/30\n",
      "848/848 [==============================] - ETA: 0s - loss: 3.8405\n",
      "Epoch 00006: saving model to ./CheckPoint\\ckipCp.ckpt\n",
      "848/848 [==============================] - 488s 576ms/step - loss: 3.8405\n",
      "Epoch 7/30\n",
      "848/848 [==============================] - ETA: 0s - loss: 3.7389\n",
      "Epoch 00007: saving model to ./CheckPoint\\ckipCp.ckpt\n",
      "848/848 [==============================] - 488s 575ms/step - loss: 3.7389\n",
      "Epoch 8/30\n",
      "848/848 [==============================] - ETA: 0s - loss: 3.6573\n",
      "Epoch 00008: saving model to ./CheckPoint\\ckipCp.ckpt\n",
      "848/848 [==============================] - 488s 576ms/step - loss: 3.6573\n",
      "Epoch 9/30\n",
      "848/848 [==============================] - ETA: 0s - loss: 3.5890\n",
      "Epoch 00009: saving model to ./CheckPoint\\ckipCp.ckpt\n",
      "848/848 [==============================] - 488s 575ms/step - loss: 3.5890\n",
      "Epoch 10/30\n",
      "848/848 [==============================] - ETA: 0s - loss: 3.5289\n",
      "Epoch 00010: saving model to ./CheckPoint\\ckipCp.ckpt\n",
      "848/848 [==============================] - 488s 576ms/step - loss: 3.5289\n",
      "Epoch 11/30\n",
      "848/848 [==============================] - ETA: 0s - loss: 3.4759\n",
      "Epoch 00011: saving model to ./CheckPoint\\ckipCp.ckpt\n",
      "848/848 [==============================] - 488s 575ms/step - loss: 3.4759\n",
      "Epoch 12/30\n",
      "848/848 [==============================] - ETA: 0s - loss: 3.4278\n",
      "Epoch 00012: saving model to ./CheckPoint\\ckipCp.ckpt\n",
      "848/848 [==============================] - 489s 576ms/step - loss: 3.4278\n",
      "Epoch 13/30\n",
      "848/848 [==============================] - ETA: 0s - loss: 3.3828\n",
      "Epoch 00013: saving model to ./CheckPoint\\ckipCp.ckpt\n",
      "848/848 [==============================] - 488s 575ms/step - loss: 3.3828\n",
      "Epoch 14/30\n",
      "848/848 [==============================] - ETA: 0s - loss: 3.3415\n",
      "Epoch 00014: saving model to ./CheckPoint\\ckipCp.ckpt\n",
      "848/848 [==============================] - 489s 576ms/step - loss: 3.3415\n",
      "Epoch 15/30\n",
      "848/848 [==============================] - ETA: 0s - loss: 3.3027\n",
      "Epoch 00015: saving model to ./CheckPoint\\ckipCp.ckpt\n",
      "848/848 [==============================] - 488s 576ms/step - loss: 3.3027\n",
      "Epoch 16/30\n",
      "848/848 [==============================] - ETA: 0s - loss: 3.2651\n",
      "Epoch 00016: saving model to ./CheckPoint\\ckipCp.ckpt\n",
      "848/848 [==============================] - 489s 576ms/step - loss: 3.2651\n",
      "Epoch 17/30\n",
      "848/848 [==============================] - ETA: 0s - loss: 3.2300\n",
      "Epoch 00017: saving model to ./CheckPoint\\ckipCp.ckpt\n",
      "848/848 [==============================] - 488s 575ms/step - loss: 3.2300\n",
      "Epoch 18/30\n",
      "848/848 [==============================] - ETA: 0s - loss: 3.1955\n",
      "Epoch 00018: saving model to ./CheckPoint\\ckipCp.ckpt\n",
      "848/848 [==============================] - 489s 576ms/step - loss: 3.1955\n",
      "Epoch 19/30\n",
      "848/848 [==============================] - ETA: 0s - loss: 3.1628\n",
      "Epoch 00019: saving model to ./CheckPoint\\ckipCp.ckpt\n",
      "848/848 [==============================] - 488s 576ms/step - loss: 3.1628\n",
      "Epoch 20/30\n",
      "848/848 [==============================] - ETA: 0s - loss: 3.1295\n",
      "Epoch 00020: saving model to ./CheckPoint\\ckipCp.ckpt\n",
      "848/848 [==============================] - 489s 576ms/step - loss: 3.1295\n",
      "Epoch 21/30\n",
      "848/848 [==============================] - ETA: 0s - loss: 3.0991\n",
      "Epoch 00021: saving model to ./CheckPoint\\ckipCp.ckpt\n",
      "848/848 [==============================] - 488s 576ms/step - loss: 3.0991\n",
      "Epoch 22/30\n",
      "848/848 [==============================] - ETA: 0s - loss: 3.0677\n",
      "Epoch 00022: saving model to ./CheckPoint\\ckipCp.ckpt\n",
      "848/848 [==============================] - 489s 576ms/step - loss: 3.0677\n",
      "Epoch 23/30\n",
      "848/848 [==============================] - ETA: 0s - loss: 3.0383\n",
      "Epoch 00023: saving model to ./CheckPoint\\ckipCp.ckpt\n",
      "848/848 [==============================] - 488s 576ms/step - loss: 3.0383\n",
      "Epoch 24/30\n",
      "848/848 [==============================] - ETA: 0s - loss: 3.0091\n",
      "Epoch 00024: saving model to ./CheckPoint\\ckipCp.ckpt\n",
      "848/848 [==============================] - 488s 576ms/step - loss: 3.0091\n",
      "Epoch 25/30\n",
      "848/848 [==============================] - ETA: 0s - loss: 2.9800\n",
      "Epoch 00025: saving model to ./CheckPoint\\ckipCp.ckpt\n",
      "848/848 [==============================] - 488s 576ms/step - loss: 2.9800\n",
      "Epoch 26/30\n",
      "848/848 [==============================] - ETA: 0s - loss: 2.9512\n",
      "Epoch 00026: saving model to ./CheckPoint\\ckipCp.ckpt\n",
      "848/848 [==============================] - 489s 577ms/step - loss: 2.9512\n",
      "Epoch 27/30\n",
      "848/848 [==============================] - ETA: 0s - loss: 2.9235\n",
      "Epoch 00027: saving model to ./CheckPoint\\ckipCp.ckpt\n",
      "848/848 [==============================] - 488s 576ms/step - loss: 2.9235\n",
      "Epoch 28/30\n",
      "848/848 [==============================] - ETA: 0s - loss: 2.8962\n",
      "Epoch 00028: saving model to ./CheckPoint\\ckipCp.ckpt\n",
      "848/848 [==============================] - 489s 577ms/step - loss: 2.8962\n",
      "Epoch 29/30\n",
      "848/848 [==============================] - ETA: 0s - loss: 2.8691\n",
      "Epoch 00029: saving model to ./CheckPoint\\ckipCp.ckpt\n",
      "848/848 [==============================] - 489s 577ms/step - loss: 2.8691\n",
      "Epoch 30/30\n",
      "848/848 [==============================] - ETA: 0s - loss: 2.8423\n",
      "Epoch 00030: saving model to ./CheckPoint\\ckipCp.ckpt\n",
      "848/848 [==============================] - 489s 577ms/step - loss: 2.8423\n"
     ]
    }
   ],
   "source": [
    "EPOCHS = 30\n",
    "history = model.fit(\n",
    "    dataset, # 前面使用 tf.data 建構的資料集\n",
    "    epochs=EPOCHS,\n",
    "    callbacks=[cp_callback]\n",
    ")"
   ]
  },
  {
   "cell_type": "code",
   "execution_count": 22,
   "metadata": {
    "colab": {
     "base_uri": "https://localhost:8080/",
     "height": 295
    },
    "executionInfo": {
     "elapsed": 23,
     "status": "ok",
     "timestamp": 1652449862837,
     "user": {
      "displayName": "547蘇勁安",
      "userId": "12901927310267751394"
     },
     "user_tz": -480
    },
    "id": "xxbK80fXpOWD",
    "outputId": "ec8440a0-18a9-4090-d493-71737e2df866"
   },
   "outputs": [
    {
     "data": {
      "image/png": "[encoded data removed]",
      "text/plain": [
       "<Figure size 640x480 with 1 Axes>"
      ]
     },
     "metadata": {},
     "output_type": "display_data"
    }
   ],
   "source": [
    "plt.plot(history.history['loss'])\n",
    "plt.title('model loss')\n",
    "plt.ylabel('loss')\n",
    "plt.xlabel('epoch')\n",
    "\n",
    "plt.show()"
   ]
  },
  {
   "cell_type": "code",
   "execution_count": 23,
   "metadata": {
    "colab": {
     "base_uri": "https://localhost:8080/"
    },
    "executionInfo": {
     "elapsed": 11,
     "status": "ok",
     "timestamp": 1652449863952,
     "user": {
      "displayName": "547蘇勁安",
      "userId": "12901927310267751394"
     },
     "user_tz": -480
    },
    "id": "A3elbMNg4z4N",
    "outputId": "7528a5a6-253d-4042-f0b0-e343d0117865"
   },
   "outputs": [
    {
     "name": "stdout",
     "output_type": "stream",
     "text": [
      "原本的中文字序列：\n",
      "边。”她满不在乎地抬手指向前面，“看到那个白色的顶了吗?那里就是女生宿舍楼。”我顺着她指的方向望去，绿荫中确实有一些白晃晃的房子的影子。“谢谢。”我刚要往前走，却被她喊住：“你等等!”“什么事啊?”我\n",
      "----------------------------------------\n",
      "輸入進訓練後的model後獲得：\n",
      "\n",
      "，不我说脸在乎地说头指点地方，那你到了里女色的女灯，？”是面是一生宿舍的。”“问着她的的方向望去，只色中，实有个些人晃晃的东子，光子，“你谢你”我不要问前走，我发我一了了“你怎着。”我我么???”“问\n"
     ]
    }
   ],
   "source": [
    "after_train_predictions = model(input_example)\n",
    "after_sampled_indices = tf.argmax(after_train_predictions[0],1)\n",
    "\n",
    "print(\"原本的中文字序列：\")\n",
    "[print(index2Word[ind],end=\"\") for ind in input_example[0].numpy()]\n",
    "print()\n",
    "print(\"-\"*40)\n",
    "print(\"輸入進訓練後的model後獲得：\")\n",
    "print()\n",
    "\n",
    "[print(index2Word[ind],end=\"\") for ind in after_sampled_indices.numpy()]\n",
    "print()"
   ]
  },
  {
   "cell_type": "code",
   "execution_count": 45,
   "metadata": {},
   "outputs": [],
   "source": [
    "modelName = 'LSTM_OpLabV2'\n",
    "model.save(\"./Model/\"+ modelName +\".h5\")\n",
    "# 保存模型权重的路径\n",
    "model.save_weights(\"./Model/\"+ modelName)\n",
    "\n",
    "jsonDict = json.dumps(word2Index, indent=2, ensure_ascii=False)\n",
    "with open ('./Model/' + modelName + '_dic.json', \"w\",  encoding=\"utf-8\") as outfile:\n",
    "    outfile.write(jsonDict)"
   ]
  },
  {
   "cell_type": "code",
   "execution_count": 26,
   "metadata": {
    "executionInfo": {
     "elapsed": 9,
     "status": "ok",
     "timestamp": 1652449863952,
     "user": {
      "displayName": "547蘇勁安",
      "userId": "12901927310267751394"
     },
     "user_tz": -480
    },
    "id": "b3ryhOIg4-qB"
   },
   "outputs": [],
   "source": [
    "# 預測文字，並把預測文字循環當作下一次的輸入\n",
    "\n",
    "# 設定你的temperature\n",
    "temperature = 0.01\n",
    "\n",
    "def generateWords(input,words=500):\n",
    "    [print(index2Word[ind],end=\"\") for ind in input]\n",
    "    for i in range(words):\n",
    "        next_input = tf.expand_dims(input,axis=0)\n",
    "        predicts = model(next_input)\n",
    "        predicts = predicts[:,-1,:]\n",
    "        predicts /= temperature\n",
    "        result = tf.random.categorical(\n",
    "            predicts,num_samples=1\n",
    "        )\n",
    "        chinese_ind = tf.squeeze(result).numpy()\n",
    "        print(index2Word[chinese_ind],end=\"\")\n",
    "        input = input+[chinese_ind]\n",
    "        input = input[-seq_len:]"
   ]
  },
  {
   "cell_type": "code",
   "execution_count": 29,
   "metadata": {},
   "outputs": [
    {
     "name": "stdout",
     "output_type": "stream",
     "text": [
      "[2642]\n",
      "tf.Tensor(\n",
      "[[[1.9375507e-08 8.9387328e-15 5.8538558e-06 ... 1.4373019e-13\n",
      "   1.4763663e-03 3.3375802e-08]]], shape=(1, 1, 4452), dtype=float32)\n",
      "tf.Tensor(\n",
      "[[1.9375507e-08 8.9387328e-15 5.8538558e-06 ... 1.4373019e-13\n",
      "  1.4763663e-03 3.3375802e-08]], shape=(1, 4452), dtype=float32)\n"
     ]
    }
   ],
   "source": [
    "cc = OpenCC('t2s')\n",
    "init_seq = cc.convert(\"鬼\")\n",
    "init_seq_ind = [word2Index[w] for w in init_seq]\n",
    "input = init_seq_ind[-seq_len:]\n",
    "\n",
    "for i in range(1):\n",
    "        next_input = tf.expand_dims(input,axis=0)\n",
    "        predicts = model(next_input)\n",
    "        print(predicts)\n",
    "        predicts = predicts[:,-1,:]\n",
    "        print(predicts)"
   ]
  },
  {
   "cell_type": "code",
   "execution_count": 28,
   "metadata": {
    "colab": {
     "base_uri": "https://localhost:8080/"
    },
    "executionInfo": {
     "elapsed": 44290,
     "status": "ok",
     "timestamp": 1652449908233,
     "user": {
      "displayName": "547蘇勁安",
      "userId": "12901927310267751394"
     },
     "user_tz": -480
    },
    "id": "l7ELuAjW3rKW",
    "outputId": "3c93e08c-8a95-4efc-8684-1deb28bd4b79"
   },
   "outputs": [
    {
     "name": "stdout",
     "output_type": "stream",
     "text": [
      "鬼，镖村的山@面，铎就会侯在一起，猪儿鬼也不要怪我，我也不会放过你的。”“那你们怎么会在这里？”“我们是不是睑的，你们怎么会这样？”“我们是不是满腔热情的，我们轴管在你们身上，《娼手杀手”的事情，我们接着说道：“康伯，你们看，这里是一个桶里面，诉说着一个弯道，涌进来的，你们都不知道，我们的揉搓手，鸦雀无声，麦穗功能，它们要Uhviper。”“这么多年，你们都不知道，我们韵物法不是恿卉剧，娆人，你们熬夜以后，我们一起去看看你们。”“那你们怎么勤快？”“我们是来找你的。”“那你们怎么不去上班？”“我是翊友，是我们窚地廓。”“那个女人是谁？”“我是蹉地，我是扔了这个女人的女儿，我不想死，我不会放过你的。”“你不是紧紧追求你了吗？”“我不是鬼，是你的女儿，我不想死，我不会放过你的！”“我不是人，是我的女儿，我不想死，我不会放过你的！”“我不是人，是我的孩子，你不要害我，我不能杀你，我不会放过你的。”“我不是人，是我的女儿，你 我……”“我不是你，我是你的女儿，我是颚走了我的废物，你荫着，我要你偿命！”“我不要你死，我不能再坡下去了，我不要你死，我要杀了她。”“你不要害我，我不能杀你，我不会放过你的，你混得铺子，你不要衙当，我要你偿命。”“你不要乔冉的，我不会放过你的！”“你不是说过，你不是祀里有鬼，你不是说你是鬼？”“我不是人，是鬼！”“你不是说你是鬼？”“我不是鬼，是鬼！”“你不是说你在看什么？”“我是鬼！”“我是鬼！”“你是谁？”“我是鬼！”“你说什么？”“我是鬼！”“你是谁？”“我是鬼！”“我是鬼！”“你是谁？”“我是鬼！”“你是谁？”“我是鬼！”我暂时不想再看下去。“谓！”我惠混了，我稣不顾及地说。“我们不是人，你们不要在这里，我们不会惹你们的。”“我们是不是混乱不下的，我们签个柏字有问题，你们读者哺乳，栈里有鬼！”“我们是不是蛀虫太重了，我们不该纱布多少钱？”“我不是鬼，我是鬼，你不是鬼，是鬼，你淡淡的桃子，你不要害怕，我不是鬼，你是鬼，你是鬼，你是鬼，你是鬼，你是鬼，你是鬼，你不是鬼，是鬼！”“你晗抻长嘴，我不是鬼，是鬼！”“我是鬼，你是鬼！”“我是鬼，你是鬼，你是鬼，你是鬼，你是鬼，你是鬼，你是鬼，你不是鬼，你是鬼，你是鬼，你是鬼，你不是鬼，是鬼，你是鬼，你是鬼，你是鬼？”“我是鬼！”“我是鬼！”我奔上前去，看见他的热气味，丑陋不堪的脸，峨着一双黑黝黝的大眼睛，镐头上的刀柄是不是惋惜，我仄的不快，我的手蝶不由自主地颤抖起来。“你是谁？”我谴责地望着我，一时间竟然不知如何回答。“我不是鬼，是鬼！”我虞美琳狼吞虎咽的说。“你不是鬼，你是鬼，你是鬼，你是鬼，你是鬼，你是鬼，你是鬼，你是鬼，你是鬼，你是鬼，你是鬼，你是鬼，你是鬼，你是鬼，你是鬼，你是鬼，你是鬼，你是鬼，你是鬼，你是鬼，你不是鬼，是鬼，你是鬼，你不是鬼，是鬼，你是鬼，你是鬼，你是鬼，你是鬼，你不是鬼，是鬼，你是鬼，你是鬼，你是鬼，你是鬼，你是鬼，你是鬼，你不是鬼，是鬼，你是鬼，你是鬼，你迷路了，我丝毫不在意，我们诗诗你们趿拉着，我们要走了。”“好，好，我们走吧。”“朔迷我们，你们恻无人道的用不了多少，你们宙间有鬼，你们不要走，我们要走了。”“顿，我们是来找你的。”“我们是来找你的。”“那你们怎么疚到了，我们不会放过你们的。”“那你们怎么蜿蜒着自己的生活？”“我们是不是有什么事吗？”“我们满腔热情的问道。”“那你们怎么会在这里？”“我们是不是有些不信了？”“我们是不是诡异的事情，你们伸冤来的人是谁？”“我们是不是佐藤蔓过来的？”“我们是不是端渡？”“我们是不是越来越多了，你们蹴鞠一两年，"
     ]
    }
   ],
   "source": [
    "init_seq = cc.convert(\"鬼\")\n",
    "init_seq_ind = [word2Index[w] for w in init_seq]\n",
    "input = init_seq_ind[-seq_len:]\n",
    "\n",
    "generateWords(input,1500)"
   ]
  }
 ],
 "metadata": {
  "accelerator": "GPU",
  "colab": {
   "collapsed_sections": [],
   "name": "TextGeneration_108403547.ipynb",
   "provenance": []
  },
  "kernelspec": {
   "display_name": "IR-new",
   "language": "python",
   "name": "python3"
  },
  "language_info": {
   "codemirror_mode": {
    "name": "ipython",
    "version": 3
   },
   "file_extension": ".py",
   "mimetype": "text/x-python",
   "name": "python",
   "nbconvert_exporter": "python",
   "pygments_lexer": "ipython3",
   "version": "3.9.18"
  }
 },
 "nbformat": 4,
 "nbformat_minor": 4
}
