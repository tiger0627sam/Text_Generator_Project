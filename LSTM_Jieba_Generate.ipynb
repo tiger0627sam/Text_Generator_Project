{
 "cells": [
  {
   "cell_type": "code",
   "execution_count": 1,
   "metadata": {
    "executionInfo": {
     "elapsed": 5641,
     "status": "ok",
     "timestamp": 1652446990874,
     "user": {
      "displayName": "547蘇勁安",
      "userId": "12901927310267751394"
     },
     "user_tz": -480
    },
    "id": "pPCmAo0Q_G3i"
   },
   "outputs": [],
   "source": [
    "import numpy as np\n",
    "import pandas as pd\n",
    "import os\n",
    "import json\n",
    "import re\n",
    "import matplotlib.pyplot as plt\n",
    "from tensorflow import keras\n",
    "from tensorflow.keras import layers\n",
    "import tensorflow as tf\n",
    "from opencc import OpenCC"
   ]
  },
  {
   "cell_type": "code",
   "execution_count": 2,
   "metadata": {
    "colab": {
     "base_uri": "https://localhost:8080/"
    },
    "executionInfo": {
     "elapsed": 4454,
     "status": "ok",
     "timestamp": 1652447098041,
     "user": {
      "displayName": "547蘇勁安",
      "userId": "12901927310267751394"
     },
     "user_tz": -480
    },
    "id": "YKiszF5doFGz",
    "outputId": "d0954123-aaaf-49fc-9598-dcc1ec6505c4"
   },
   "outputs": [
    {
     "name": "stderr",
     "output_type": "stream",
     "text": [
      "2023-12-12 15:03:03.525304: I metal_plugin/src/device/metal_device.cc:1154] Metal device set to: Apple M1 Pro\n",
      "2023-12-12 15:03:03.525331: I metal_plugin/src/device/metal_device.cc:296] systemMemory: 16.00 GB\n",
      "2023-12-12 15:03:03.525336: I metal_plugin/src/device/metal_device.cc:313] maxCacheSize: 5.33 GB\n",
      "2023-12-12 15:03:03.525408: I tensorflow/core/common_runtime/pluggable_device/pluggable_device_factory.cc:306] Could not identify NUMA node of platform GPU ID 0, defaulting to 0. Your kernel may not have been built with NUMA support.\n",
      "2023-12-12 15:03:03.525593: I tensorflow/core/common_runtime/pluggable_device/pluggable_device_factory.cc:272] Created TensorFlow device (/job:localhost/replica:0/task:0/device:GPU:0 with 0 MB memory) -> physical PluggableDevice (device: 0, name: METAL, pci bus id: <undefined>)\n"
     ]
    }
   ],
   "source": [
    "# switch model\n",
    "modelName = 'LSTM_OpLab_Jieba_V2'\n",
    "model = tf.keras.models.load_model('./Model/'+ modelName +'.h5')"
   ]
  },
  {
   "cell_type": "code",
   "execution_count": 3,
   "metadata": {
    "colab": {
     "base_uri": "https://localhost:8080/"
    },
    "executionInfo": {
     "elapsed": 6,
     "status": "ok",
     "timestamp": 1652447020633,
     "user": {
      "displayName": "547蘇勁安",
      "userId": "12901927310267751394"
     },
     "user_tz": -480
    },
    "id": "6LP0BwFDAmcS",
    "outputId": "a082dad7-3cd9-4910-b24a-911a0f039b9f"
   },
   "outputs": [],
   "source": [
    "# 文字轉數字(index)\n",
    "with open('./Model/'+ modelName +'_dic.json', 'r', encoding='utf-8') as fileRead:\n",
    "        word2Index = json.load(fileRead)\n",
    "index2Word = {word2Index[word]:word for word in word2Index}"
   ]
  },
  {
   "cell_type": "code",
   "execution_count": 8,
   "metadata": {
    "executionInfo": {
     "elapsed": 9,
     "status": "ok",
     "timestamp": 1652449863952,
     "user": {
      "displayName": "547蘇勁安",
      "userId": "12901927310267751394"
     },
     "user_tz": -480
    },
    "id": "b3ryhOIg4-qB"
   },
   "outputs": [],
   "source": [
    "# 預測文字，並把預測文字循環當作下一次的輸入\n",
    "\n",
    "# 設定你的temperature\n",
    "temperature = 0.005\n",
    "seq_len = 15\n",
    "\n",
    "def generateWords(input, wordCount=100):\n",
    "    paragraph = \"\"\n",
    "    for ind in input:\n",
    "        paragraph += index2Word[ind]\n",
    "        \n",
    "    while len(paragraph) < wordCount:\n",
    "        next_input = tf.expand_dims(input,axis=0)\n",
    "        predicts = model(next_input)\n",
    "        predicts = predicts[:,-1,:]\n",
    "        predicts /= temperature\n",
    "        result = tf.random.categorical(\n",
    "            predicts,num_samples=1\n",
    "        )\n",
    "        chinese_ind = tf.squeeze(result).numpy()\n",
    "        # print(index2Word[chinese_ind],end=\"\")\n",
    "        paragraph += index2Word[chinese_ind]\n",
    "        input = input+[chinese_ind]\n",
    "        input = input[-seq_len:]\n",
    "    return paragraph"
   ]
  },
  {
   "cell_type": "code",
   "execution_count": 9,
   "metadata": {
    "colab": {
     "base_uri": "https://localhost:8080/"
    },
    "executionInfo": {
     "elapsed": 44290,
     "status": "ok",
     "timestamp": 1652449908233,
     "user": {
      "displayName": "547蘇勁安",
      "userId": "12901927310267751394"
     },
     "user_tz": -480
    },
    "id": "l7ELuAjW3rKW",
    "outputId": "3c93e08c-8a95-4efc-8684-1deb28bd4b79"
   },
   "outputs": [],
   "source": [
    "init_seq = \"有鬼\"\n",
    "init_seq_ind = [word2Index[w] for w in init_seq]\n",
    "input = init_seq_ind[-seq_len:]\n",
    "\n",
    "result = generateWords(input,2000)"
   ]
  },
  {
   "cell_type": "code",
   "execution_count": 10,
   "metadata": {},
   "outputs": [
    {
     "data": {
      "text/plain": [
       "'有鬼的样子我极是亮相而你就患病在看好店的房子了上膛的事让自己找了家少奶奶下来后两人几乎是几杯了连沈扬在他家的时候天已经黑了二蛋感觉到了一种很原始的气息根本无法靠近的旅途很快观音出现了段菲说怎么了怎么会这样呢她恶之花该到的时候也会有很多的水缸正好挖出一具骷髅尸体是的了部落一般的鸡也不见死者小冯等他走到头块路上却发现了一个高大的人影小道下空无一人的低矮的公路上一个头戴大黑狗啊算命先生说着就朝上游的那棵大树飞向村后西钻小路二成子拉了拉车尾的三轮车铲平长江上的小卖部墙边有一个开着门我看见一个敞开着的人头在那里盯着我我就在旁边战战兢兢的跑进了我的房间她的脸是一个黑色的影子走了过来它朝我这边走来我爸关在被窝里不敢喘不对嗒嗒声音却什么也没有秦晓莉也没有睁开朦胧的双眼天啊你的公公惑怕鬼径直跑过来见着柳洁如把申曜吓了一跳(完结)轩昭良的第一反应也随之消失了我长寿命买了人间的道行又看我略微惊呆了他的唇再次涩跳跃又一滴一滴一滴从我的心脏中流淌出来我扮作着许多的痛哭声我的心一下子提到了嗓子眼仿佛是我的异样他的手明显的变化着阿天的脸在蠕动没有一丝声响他的双腿渐渐变得透明他慢慢的往学校跑去但是她的眼睛远比自己想象的几乎是房间里的说得好而且连着都没有看到难道韩格饿了脚发软他的力气大得紧了后窗她也没多想踩住摊在了地的石板中间不远处是新坟司机惊得目瞪口呆地看着他他吓得赶紧跑了出去跑到卫生间看到那只行李箱正好盏灯但是黄色的镜面上挂着一个很大的竹筒越紧!朗被迷住了扬起的那是一只手它的脚上被挖出来了赵杰吓的后退了两步它的手已经被汗水打湿赵杰大喊一声\"好勿回头只见那小胡子指着大力涌动的草帽正好恒刚满一个十岁的小女孩在那里小胡子大大方方的拿着我的龙床将那两个孩子从嘴边划开在地而死的那个墓李对突然就感觉到自己的哭喊声会有多么的好强笔帽处突兀的流着翅膀也变得模糊不清忽而滴溜溜四顾根本没有人知道赵杰的张口却始终没有抓到流动男子的胸膛好的斩马刀一刀撕开的鸵鸟肉破豆腐的青蛙用了一块糯米和糯米和食物在其中呢金银珠宝我也不知道是什么东西在写小说的时候你就知道了我的黄杨就意味着它的贪欲还有喷小鸡的臭突然有人在动嘴里还指导着他而不是鸽子的吗娇娇后来在药材的带领下而去的那口井是在零点左右到达的黎明了远处静静出现了三个灰色的男人那两个婢女一起站在他的身后然后一暗头发的铠甲和碰撞的声音吵醒了华生的老婆一下子晕过去了醒来后他还是禁不住好奇滚出摩托车的颠簸了起来我的炕头都没有了我的喊声中的出奇大的穿衣镜都是在水中下沉脑子里所见的是幻觉!!!!!!!!!鬼来水生那紫青的脸就听到了一个很奇怪的声音那是一个复工的大碾盘起床后将黑洞固定好绣花血迹放到了池塘里他没有动突然一股阴风夹杂着刺鼻的尸气就在这时他感觉自己的脚背上有一个小小的窟窿就在他的眼前然而灭口却又说不出口了我眼机灵又羞我一惊一乍的时候突然发现她的手在我脚边一下一下的泥水下我的身体就在他的眼前我后湖再次被吸入枕头手痛的长大成人说把我变成了这一切我只知道自己的仇已经死了我小偷小摸吧!我的身体越来越弱了我的心脏也随之消失了我的声音越来越发颤我附到我的身体里我好饿好饿了打起精神要回学校玩了些煤油灯在路边摆满了一个塑料布包的小铃铛市局请了十多枪就越好行驶连续三天多年没有结束两班就在他家柴草堆里一个孩子一看就见二叔范文豹觉得这老头也很奇怪他开声说你这碎魂玉被蛇咬死一般都是神物你知道他是鬼娃他把舌头都掉下来了黑无常果真是自己在做梦姨父他看见他的身体呈现出一个侧面可让人清醒了他没梦到他的手发呆她自己却浑然不觉她装睡的那一刹那青色的水躯体人间最让人窒息的感觉我的心都提到了嗓子眼里我的眼睛眯成了一条缝我想我是谁呢我在吊桶思考宣判时我和罗怡的事充耳不闻我尽量打消答案听完我的微笑倒好我的生命就在完结的时候突然又从井的跳动我仔仔细细地打量了一下发现在阿肥的床下面是一片漆黑的马路我说说话的眼神很诡异但又觉得很奇怪我蚊香一般的问题我知道他是鬼我想我是个哑巴叫他遗弃在我的脖子上我顿时觉得很难受疯到了千年的云端等待着我的苏醒就这样消失了我的心提到了嗓子眼开始了我的全身都是汗我的心都快跳起来了我想我是个懦夫不敢回头杨军突然间床的霓虹灯又急速闪过一股寒意从她耳畔心底闪过一丝凉意他的小倩就连呼吸声也没有我的思维完全无视我的视线他的灵魂已经变成了一个可怕的东西我老戴的浑浊无力的裤管乱发连着冒着热气的线条仍然是一片空白的她似乎是坚毅的样子我不明白为什么这样的答案我的灵魂却超越了我的未来我不能再忍受我落下了我的作用果然她把我左薇的衣服给了我然后我就站在我身后我青铜器着灵位下的QQ又可以看到的却是浪漫的局面事后他觉得近期也许是由明日又开始泛滥但每年魔鬼先生们都会去看一些观音菩萨才能让人信服可让天猫听过的是自己的吸小鸡起来去厨房的木盆里去了棺材上面也是个地位落魄又丑的汉子拼死守住她提出要让他在'"
      ]
     },
     "execution_count": 10,
     "metadata": {},
     "output_type": "execute_result"
    }
   ],
   "source": [
    "result"
   ]
  },
  {
   "cell_type": "code",
   "execution_count": 11,
   "metadata": {},
   "outputs": [],
   "source": [
    "with open ('./Results/'+ modelName +'_1.txt', 'w', encoding='utf-8') as outFile:\n",
    "    outFile.write(result)"
   ]
  }
 ],
 "metadata": {
  "accelerator": "GPU",
  "colab": {
   "collapsed_sections": [],
   "name": "TextGeneration_108403547.ipynb",
   "provenance": []
  },
  "kernelspec": {
   "display_name": "IR-new",
   "language": "python",
   "name": "python3"
  },
  "language_info": {
   "codemirror_mode": {
    "name": "ipython",
    "version": 3
   },
   "file_extension": ".py",
   "mimetype": "text/x-python",
   "name": "python",
   "nbconvert_exporter": "python",
   "pygments_lexer": "ipython3",
   "version": "3.9.18"
  }
 },
 "nbformat": 4,
 "nbformat_minor": 4
}
