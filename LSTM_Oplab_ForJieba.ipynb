{
 "cells": [
  {
   "cell_type": "markdown",
   "metadata": {},
   "source": [
    "## Jieba LSTM"
   ]
  },
  {
   "cell_type": "code",
   "execution_count": 1,
   "metadata": {
    "executionInfo": {
     "elapsed": 5641,
     "status": "ok",
     "timestamp": 1652446990874,
     "user": {
      "displayName": "547蘇勁安",
      "userId": "12901927310267751394"
     },
     "user_tz": -480
    },
    "id": "pPCmAo0Q_G3i"
   },
   "outputs": [
    {
     "name": "stderr",
     "output_type": "stream",
     "text": [
      "c:\\Users\\oplab\\.conda\\envs\\IR-new\\lib\\site-packages\\numpy\\_distributor_init.py:30: UserWarning: loaded more than 1 DLL from .libs:\n",
      "c:\\Users\\oplab\\.conda\\envs\\IR-new\\lib\\site-packages\\numpy\\.libs\\libopenblas.PYQHXLVVQ7VESDPUVUADXEVJOBGHJPAY.gfortran-win_amd64.dll\n",
      "c:\\Users\\oplab\\.conda\\envs\\IR-new\\lib\\site-packages\\numpy\\.libs\\libopenblas64__v0.3.21-gcc_10_3_0.dll\n",
      "  warnings.warn(\"loaded more than 1 DLL from .libs:\\n%s\" %\n"
     ]
    }
   ],
   "source": [
    "import numpy as np\n",
    "import pandas as pd\n",
    "import os\n",
    "import json\n",
    "import re\n",
    "import matplotlib.pyplot as plt\n",
    "from tensorflow import keras\n",
    "from tensorflow.keras import layers\n",
    "import tensorflow as tf\n",
    "from opencc import OpenCC"
   ]
  },
  {
   "cell_type": "code",
   "execution_count": 2,
   "metadata": {},
   "outputs": [
    {
     "data": {
      "text/plain": [
       "[PhysicalDevice(name='/physical_device:XLA_GPU:0', device_type='XLA_GPU')]"
      ]
     },
     "execution_count": 2,
     "metadata": {},
     "output_type": "execute_result"
    }
   ],
   "source": [
    "tf.config.list_physical_devices('XLA_GPU')\n",
    "# from tensorflow.python.client import device_lib\n",
    "# print(device_lib.list_local_devices())"
   ]
  },
  {
   "cell_type": "code",
   "execution_count": 3,
   "metadata": {},
   "outputs": [
    {
     "name": "stdout",
     "output_type": "stream",
     "text": [
      "1 Physical GPUs, 1 Logical GPU\n"
     ]
    }
   ],
   "source": [
    "import tensorflow as tf\n",
    "\n",
    "gpu_number = 2 #### GPU number \n",
    "gpus = tf.config.list_physical_devices('XLA_GPU')\n",
    "if gpus:\n",
    "    tf.config.experimental.set_visible_devices(gpus[0], 'XLA_GPU') \n",
    "    logical_gpus = tf.config.experimental.list_logical_devices('XLA_GPU')\n",
    "    print(len(gpus), \"Physical GPUs,\", len(logical_gpus), \"Logical GPU\")"
   ]
  },
  {
   "cell_type": "code",
   "execution_count": 4,
   "metadata": {},
   "outputs": [
    {
     "data": {
      "text/plain": [
       "['一', '这', '是', '我', '第三次', '到', '这里', '来', '屋里', '的']"
      ]
     },
     "execution_count": 4,
     "metadata": {},
     "output_type": "execute_result"
    }
   ],
   "source": [
    "dataPath = './Data/Jieba/'\n",
    "files = os.listdir(dataPath)\n",
    "allContent = []\n",
    "for file in files:\n",
    "    with open(dataPath + file, 'r', encoding='utf-8') as fileRead:\n",
    "        tempFileJSON = json.load(fileRead)\n",
    "        tempContentList = tempFileJSON['Context']\n",
    "        allContent.extend(tempContentList)\n",
    "allContent[:10]"
   ]
  },
  {
   "cell_type": "code",
   "execution_count": 5,
   "metadata": {
    "colab": {
     "base_uri": "https://localhost:8080/"
    },
    "executionInfo": {
     "elapsed": 3,
     "status": "ok",
     "timestamp": 1652446990874,
     "user": {
      "displayName": "547蘇勁安",
      "userId": "12901927310267751394"
     },
     "user_tz": -480
    },
    "id": "1Mbvzh_9_Tz8",
    "outputId": "ba705564-d18a-4657-f54f-0d9ffeb88c48"
   },
   "outputs": [
    {
     "name": "stdout",
     "output_type": "stream",
     "text": [
      "total: 5900793\n",
      "包含了162192 個獨一無二的字 (含標點符號)\n",
      "\n"
     ]
    }
   ],
   "source": [
    "contentLength = len(allContent)\n",
    "uniqueTerms = set(allContent)\n",
    "print(f\"total: {contentLength}\")\n",
    "print(f\"包含了{len(uniqueTerms)} 個獨一無二的字 (含標點符號)\\n\")"
   ]
  },
  {
   "cell_type": "code",
   "execution_count": 6,
   "metadata": {
    "executionInfo": {
     "elapsed": 459,
     "status": "ok",
     "timestamp": 1652446991331,
     "user": {
      "displayName": "547蘇勁安",
      "userId": "12901927310267751394"
     },
     "user_tz": -480
    },
    "id": "tQDQ8hxBEa6d"
   },
   "outputs": [],
   "source": [
    "# 計算字數統計\n",
    "termCount = {}\n",
    "for w in allContent:\n",
    "    if w in termCount:\n",
    "        termCount[w] += 1\n",
    "    else:\n",
    "        termCount[w] = 1"
   ]
  },
  {
   "cell_type": "code",
   "execution_count": 7,
   "metadata": {
    "colab": {
     "base_uri": "https://localhost:8080/"
    },
    "executionInfo": {
     "elapsed": 29305,
     "status": "ok",
     "timestamp": 1652447020633,
     "user": {
      "displayName": "547蘇勁安",
      "userId": "12901927310267751394"
     },
     "user_tz": -480
    },
    "id": "e_uP5gOVIy2K",
    "outputId": "cbb8f0b3-166b-473a-eb63-c011dee64d58"
   },
   "outputs": [
    {
     "name": "stdout",
     "output_type": "stream",
     "text": [
      "origin length 5900793\n",
      "去除不常出現的文字後\n",
      "0 100000 200000 300000 400000 500000 600000 700000 800000 900000 1000000 1100000 1200000 1300000 1400000 1500000 1600000 1700000 1800000 1900000 2000000 2100000 2200000 2300000 2400000 2500000 2600000 2700000 2800000 2900000 3000000 3100000 3200000 3300000 3400000 3500000 3600000 3700000 3800000 3900000 4000000 4100000 4200000 4300000 4400000 4500000 4600000 4700000 4800000 4900000 5000000 5100000 5200000 5300000 5400000 5500000 5600000 5700000 5800000 5900000 "
     ]
    }
   ],
   "source": [
    "print(f\"origin length {contentLength}\")\n",
    "print(f\"去除不常出現的文字後\")\n",
    "removeIndexList = []\n",
    "for index, word in enumerate(allContent):\n",
    "    if(index%100000)==0:\n",
    "        print(index, end=' ')\n",
    "    if termCount.get(word) < 2:\n",
    "        removeIndexList.append(index)"
   ]
  },
  {
   "cell_type": "code",
   "execution_count": 8,
   "metadata": {},
   "outputs": [
    {
     "data": {
      "text/plain": [
       "74352"
      ]
     },
     "execution_count": 8,
     "metadata": {},
     "output_type": "execute_result"
    }
   ],
   "source": [
    "len(removeIndexList)"
   ]
  },
  {
   "cell_type": "code",
   "execution_count": 9,
   "metadata": {},
   "outputs": [
    {
     "name": "stdout",
     "output_type": "stream",
     "text": [
      "1000 2000 3000 4000 5000 6000 7000 8000 9000 10000 11000 12000 13000 14000 15000 16000 17000 18000 19000 20000 21000 22000 23000 24000 25000 26000 27000 28000 29000 30000 31000 32000 33000 34000 35000 36000 37000 38000 39000 40000 41000 42000 43000 44000 45000 46000 47000 48000 49000 50000 51000 52000 53000 54000 55000 56000 57000 58000 59000 60000 61000 62000 63000 64000 65000 66000 67000 68000 69000 70000 71000 72000 73000 74000 "
     ]
    }
   ],
   "source": [
    "count = 0\n",
    "for removeIndex in sorted(removeIndexList, reverse=True):\n",
    "    count += 1\n",
    "    if(count%1000)==0:\n",
    "        print(count, end=' ')\n",
    "    del allContent[removeIndex]"
   ]
  },
  {
   "cell_type": "code",
   "execution_count": 10,
   "metadata": {},
   "outputs": [
    {
     "name": "stdout",
     "output_type": "stream",
     "text": [
      "剩餘5826441個字\n"
     ]
    },
    {
     "data": {
      "text/plain": [
       "['一', '这', '是', '我', '第三次', '到', '这里', '来', '屋里', '的']"
      ]
     },
     "execution_count": 10,
     "metadata": {},
     "output_type": "execute_result"
    }
   ],
   "source": [
    "uniqueWords = set(allContent)\n",
    "print(f\"剩餘{len(allContent)}個字\")\n",
    "allContent[:10]"
   ]
  },
  {
   "cell_type": "code",
   "execution_count": 11,
   "metadata": {
    "colab": {
     "base_uri": "https://localhost:8080/"
    },
    "executionInfo": {
     "elapsed": 6,
     "status": "ok",
     "timestamp": 1652447020633,
     "user": {
      "displayName": "547蘇勁安",
      "userId": "12901927310267751394"
     },
     "user_tz": -480
    },
    "id": "6LP0BwFDAmcS",
    "outputId": "a082dad7-3cd9-4910-b24a-911a0f039b9f"
   },
   "outputs": [
    {
     "name": "stdout",
     "output_type": "stream",
     "text": [
      "原始文字 : \n",
      "['一', '这', '是', '我', '第三次', '到', '这里', '来', '屋里', '的']\n",
      "轉成index : \n",
      "{63620, 43401, 29707, 68623, 34451, 1050, 47776, 29603, 37159, 8745, 40107, 5809, 45746, 82738, 26804, 78266, 14139, 53310, 10185, 6346, 16466, 79066, 46043, 53347, 10214, 83433, 20212, 35061, 11513, 63995}\n"
     ]
    }
   ],
   "source": [
    "# 文字轉數字(index)\n",
    "word2Index = {word:index for index,word in enumerate(uniqueWords)}\n",
    "index2Word = {word2Index[word]:word for word in word2Index}\n",
    "\n",
    "content2Index = [word2Index[w] for w in allContent]\n",
    "\n",
    "print(\"原始文字 : \")\n",
    "print(allContent[:10])\n",
    "print(\"轉成index : \")\n",
    "print({word2Index[w] for w in allContent[:40]})"
   ]
  },
  {
   "cell_type": "code",
   "execution_count": 12,
   "metadata": {
    "executionInfo": {
     "elapsed": 4,
     "status": "ok",
     "timestamp": 1652447020633,
     "user": {
      "displayName": "547蘇勁安",
      "userId": "12901927310267751394"
     },
     "user_tz": -480
    },
    "id": "H-KDv4kqgxLH"
   },
   "outputs": [],
   "source": [
    "def ind2word_seq(seq):\n",
    "    return [index2Word[i] for i in seq]"
   ]
  },
  {
   "cell_type": "code",
   "execution_count": 13,
   "metadata": {
    "colab": {
     "base_uri": "https://localhost:8080/"
    },
    "executionInfo": {
     "elapsed": 4831,
     "status": "ok",
     "timestamp": 1652447025461,
     "user": {
      "displayName": "547蘇勁安",
      "userId": "12901927310267751394"
     },
     "user_tz": -480
    },
    "id": "_aDyjJymDmVv",
    "outputId": "fa1c548d-14d6-49be-fb55-d214fc54e236"
   },
   "outputs": [
    {
     "name": "stdout",
     "output_type": "stream",
     "text": [
      "(16,)\n",
      "tf.Tensor(\n",
      "[53347 43401 20212 35061 14139 11513 83433  8745 16466 68623 26804 10185\n",
      " 79066 34451 35061 53310], shape=(16,), dtype=int32)\n",
      "['一', '这', '是', '我', '第三次', '到', '这里', '来', '屋里', '的', '摆设', '还是', '很', '陈旧', '我', '局促不安']\n",
      "(16,)\n",
      "tf.Tensor(\n",
      "[68623 47776 78266 63620 37159 46043  6346 68623 63995 78266 35061 35061\n",
      " 45746 35061 29707 10214], shape=(16,), dtype=int32)\n",
      "['的', '站', '着', '双手', '在', '胸前', '不停', '的', '揉搓', '着', '我', '我', '这次', '我', '知道', '你']\n"
     ]
    }
   ],
   "source": [
    "# 設定輸入模型長度\n",
    "seq_len = 15\n",
    "characters = tf.data.Dataset.from_tensor_slices(content2Index)\n",
    "\n",
    "sequences = characters.batch(seq_len+1,drop_remainder=True)\n",
    "\n",
    "for seq in sequences.take(2):\n",
    "    print(seq.shape)\n",
    "    print(seq)\n",
    "    print([index2Word[i] for i in seq.numpy()])"
   ]
  },
  {
   "cell_type": "code",
   "execution_count": 14,
   "metadata": {
    "colab": {
     "base_uri": "https://localhost:8080/"
    },
    "executionInfo": {
     "elapsed": 8,
     "status": "ok",
     "timestamp": 1652447025461,
     "user": {
      "displayName": "547蘇勁安",
      "userId": "12901927310267751394"
     },
     "user_tz": -480
    },
    "id": "jhFC16MdLONw",
    "outputId": "e786c858-0952-4e1f-cedf-e1c78acbe9bb"
   },
   "outputs": [],
   "source": [
    "# 做input、target切割\n",
    "def split_input_target(seq):\n",
    "    input_txt = seq[:-1]\n",
    "    target_txt = seq[1:]\n",
    "    return input_txt,target_txt"
   ]
  },
  {
   "cell_type": "code",
   "execution_count": 15,
   "metadata": {
    "colab": {
     "base_uri": "https://localhost:8080/"
    },
    "executionInfo": {
     "elapsed": 533,
     "status": "ok",
     "timestamp": 1652447025990,
     "user": {
      "displayName": "547蘇勁安",
      "userId": "12901927310267751394"
     },
     "user_tz": -480
    },
    "id": "qnJ4Bdj2gZ1V",
    "outputId": "39a7de28-ddd6-48f4-ed04-215b20d43c32"
   },
   "outputs": [
    {
     "name": "stdout",
     "output_type": "stream",
     "text": [
      "Input : ['一', '这', '是', '我', '第三次', '到', '这里', '来', '屋里', '的', '摆设', '还是', '很', '陈旧', '我']\n",
      "Target: ['这', '是', '我', '第三次', '到', '这里', '来', '屋里', '的', '摆设', '还是', '很', '陈旧', '我', '局促不安']\n",
      "--------------------------------------------------\n",
      "Input : [53347 43401 20212 35061 14139 11513 83433  8745 16466 68623 26804 10185\n",
      " 79066 34451 35061]\n",
      "Target: [43401 20212 35061 14139 11513 83433  8745 16466 68623 26804 10185 79066\n",
      " 34451 35061 53310]\n"
     ]
    }
   ],
   "source": [
    "dataset = sequences.map(split_input_target)\n",
    "\n",
    "for input_example,target_exaple in dataset.take(1):\n",
    "    print(\"Input :\", ind2word_seq(input_example.numpy()))\n",
    "    print(\"Target:\", ind2word_seq(target_exaple.numpy()))\n",
    "    print(\"-\"*50)\n",
    "    print(\"Input :\", input_example.numpy())\n",
    "    print(\"Target:\", target_exaple.numpy())"
   ]
  },
  {
   "cell_type": "code",
   "execution_count": 16,
   "metadata": {
    "colab": {
     "base_uri": "https://localhost:8080/"
    },
    "executionInfo": {
     "elapsed": 8,
     "status": "ok",
     "timestamp": 1652447025990,
     "user": {
      "displayName": "547蘇勁安",
      "userId": "12901927310267751394"
     },
     "user_tz": -480
    },
    "id": "UNivSh2Igr2-",
    "outputId": "3d39c499-dc23-4307-d16d-e770d72f3c94"
   },
   "outputs": [
    {
     "data": {
      "text/plain": [
       "<BatchDataset shapes: ((128, 15), (128, 15)), types: (tf.int32, tf.int32)>"
      ]
     },
     "execution_count": 16,
     "metadata": {},
     "output_type": "execute_result"
    }
   ],
   "source": [
    "# 建立資料集\n",
    "# Batch size\n",
    "BATCH_SIZE = 128\n",
    "\n",
    "BUFFER_SIZE = 10000\n",
    "\n",
    "dataset = (\n",
    "    dataset\n",
    "    .shuffle(BUFFER_SIZE)\n",
    "    .batch(BATCH_SIZE, drop_remainder=True))\n",
    "\n",
    "dataset"
   ]
  },
  {
   "cell_type": "code",
   "execution_count": 17,
   "metadata": {
    "colab": {
     "base_uri": "https://localhost:8080/"
    },
    "executionInfo": {
     "elapsed": 67611,
     "status": "ok",
     "timestamp": 1652447093595,
     "user": {
      "displayName": "547蘇勁安",
      "userId": "12901927310267751394"
     },
     "user_tz": -480
    },
    "id": "UkRcSZAHnxlk",
    "outputId": "decb5171-3c95-4ef5-b398-3b2a3541aa21"
   },
   "outputs": [
    {
     "name": "stdout",
     "output_type": "stream",
     "text": [
      "Model: \"sequential\"\n",
      "_________________________________________________________________\n",
      "Layer (type)                 Output Shape              Param #   \n",
      "=================================================================\n",
      "embedding (Embedding)        (None, None, 512)         44974080  \n",
      "_________________________________________________________________\n",
      "lstm (LSTM)                  (None, None, 512)         2099200   \n",
      "_________________________________________________________________\n",
      "lstm_1 (LSTM)                (None, None, 256)         787456    \n",
      "_________________________________________________________________\n",
      "dense (Dense)                (None, None, 87840)       22574880  \n",
      "=================================================================\n",
      "Total params: 70,435,616\n",
      "Trainable params: 70,435,616\n",
      "Non-trainable params: 0\n",
      "_________________________________________________________________\n"
     ]
    }
   ],
   "source": [
    "# 超參數\n",
    "EMBEDDING_DIM = 512\n",
    "\n",
    "# 使用 keras 建立一個非常簡單的 LSTM 模型\n",
    "model = tf.keras.Sequential()\n",
    "\n",
    "model.add(\n",
    "  tf.keras.layers.Embedding(\n",
    "    input_dim=len(uniqueWords), \n",
    "    output_dim=EMBEDDING_DIM\n",
    "))\n",
    "\n",
    "model.add(\n",
    "  tf.keras.layers.LSTM(\n",
    "    units=512, \n",
    "    return_sequences=True, \n",
    "))\n",
    "\n",
    "model.add(\n",
    "  tf.keras.layers.LSTM(\n",
    "    units=256, \n",
    "    return_sequences=True,\n",
    "))\n",
    "  \n",
    "model.add(\n",
    "  tf.keras.layers.Dense(\n",
    "      len(uniqueWords),activation=\"softmax\"))\n",
    "\n",
    "model.summary()"
   ]
  },
  {
   "cell_type": "code",
   "execution_count": 18,
   "metadata": {
    "colab": {
     "base_uri": "https://localhost:8080/"
    },
    "executionInfo": {
     "elapsed": 4454,
     "status": "ok",
     "timestamp": 1652447098041,
     "user": {
      "displayName": "547蘇勁安",
      "userId": "12901927310267751394"
     },
     "user_tz": -480
    },
    "id": "YKiszF5doFGz",
    "outputId": "d0954123-aaaf-49fc-9598-dcc1ec6505c4"
   },
   "outputs": [
    {
     "name": "stdout",
     "output_type": "stream",
     "text": [
      "Model input shape : (128, 15)\n",
      "Model output shape : (128, 15, 87840)\n",
      "Model target shape : (128, 15)\n"
     ]
    }
   ],
   "source": [
    "# 查看模型的輸入、輸出 shape\n",
    "for input_example,target_exaple in dataset.take(1):\n",
    "    predict_example = model(input_example)\n",
    "    print(f\"Model input shape : {input_example.shape}\")\n",
    "    print(f\"Model output shape : {predict_example.shape}\")\n",
    "    print(f\"Model target shape : {target_exaple.shape}\")"
   ]
  },
  {
   "cell_type": "code",
   "execution_count": 19,
   "metadata": {
    "colab": {
     "base_uri": "https://localhost:8080/"
    },
    "executionInfo": {
     "elapsed": 10,
     "status": "ok",
     "timestamp": 1652447098041,
     "user": {
      "displayName": "547蘇勁安",
      "userId": "12901927310267751394"
     },
     "user_tz": -480
    },
    "id": "CsN6Zz4NReV4",
    "outputId": "0e397697-55b0-42cf-c88e-af600b44fe55"
   },
   "outputs": [
    {
     "name": "stdout",
     "output_type": "stream",
     "text": [
      "原本的中文字序列：\n",
      "田寡妇就跟男劳力一样跑坡下地挣工分等到俩\n",
      "----------------------------------------\n",
      "輸入尚未訓練的model後獲得：\n",
      "\n",
      "鞋子②奋起吞进去周周算你狠我些我些我些覆盖住覆盖住覆盖住覆盖住覆盖住\n"
     ]
    }
   ],
   "source": [
    "print(\"原本的中文字序列：\")\n",
    "[print(index2Word[ind],end=\"\") for ind in input_example[0].numpy()]\n",
    "print()\n",
    "print(\"-\"*40)\n",
    "print(\"輸入尚未訓練的model後獲得：\")\n",
    "print()\n",
    "\n",
    "predict_words = tf.math.argmax(predict_example[0],-1)\n",
    "[print(index2Word[ind],end=\"\") for ind in predict_words.numpy()]\n",
    "print()"
   ]
  },
  {
   "cell_type": "code",
   "execution_count": 20,
   "metadata": {},
   "outputs": [],
   "source": [
    "checkpoint_path = \"./CheckPoint/lstmJiebaV2Cp.ckpt\"\n",
    "checkpoint_dir = os.path.dirname(checkpoint_path)\n",
    "\n",
    "# Create a callback that saves the model's weights\n",
    "cp_callback = tf.keras.callbacks.ModelCheckpoint(filepath=checkpoint_path, save_weights_only=True, verbose=1)\n"
   ]
  },
  {
   "cell_type": "code",
   "execution_count": 21,
   "metadata": {
    "executionInfo": {
     "elapsed": 6,
     "status": "ok",
     "timestamp": 1652447098041,
     "user": {
      "displayName": "547蘇勁安",
      "userId": "12901927310267751394"
     },
     "user_tz": -480
    },
    "id": "unPfQAQBonFj"
   },
   "outputs": [],
   "source": [
    "model.compile(loss=\"sparse_categorical_crossentropy\",optimizer=\"adam\")"
   ]
  },
  {
   "cell_type": "code",
   "execution_count": 22,
   "metadata": {
    "colab": {
     "base_uri": "https://localhost:8080/"
    },
    "executionInfo": {
     "elapsed": 2764800,
     "status": "ok",
     "timestamp": 1652449862836,
     "user": {
      "displayName": "547蘇勁安",
      "userId": "12901927310267751394"
     },
     "user_tz": -480
    },
    "id": "5IW5xiiMpJhJ",
    "outputId": "d091f5ab-d2d3-4a23-92b6-7cc306335a81",
    "scrolled": true
   },
   "outputs": [
    {
     "name": "stdout",
     "output_type": "stream",
     "text": [
      "Epoch 1/50\n",
      "2844/2844 [==============================] - ETA: 0s - loss: 8.1450\n",
      "Epoch 00001: saving model to ./CheckPoint\\lstmJiebaV2Cp.ckpt\n",
      "2844/2844 [==============================] - 860s 302ms/step - loss: 8.1450\n",
      "Epoch 2/50\n",
      "2844/2844 [==============================] - ETA: 0s - loss: 7.5965\n",
      "Epoch 00002: saving model to ./CheckPoint\\lstmJiebaV2Cp.ckpt\n",
      "2844/2844 [==============================] - 859s 302ms/step - loss: 7.5965\n",
      "Epoch 3/50\n",
      "2844/2844 [==============================] - ETA: 0s - loss: 6.9106\n",
      "Epoch 00003: saving model to ./CheckPoint\\lstmJiebaV2Cp.ckpt\n",
      "2844/2844 [==============================] - 860s 302ms/step - loss: 6.9106\n",
      "Epoch 4/50\n",
      "2844/2844 [==============================] - ETA: 0s - loss: 6.5495\n",
      "Epoch 00004: saving model to ./CheckPoint\\lstmJiebaV2Cp.ckpt\n",
      "2844/2844 [==============================] - 859s 302ms/step - loss: 6.5495\n",
      "Epoch 5/50\n",
      "2844/2844 [==============================] - ETA: 0s - loss: 6.2962\n",
      "Epoch 00005: saving model to ./CheckPoint\\lstmJiebaV2Cp.ckpt\n",
      "2844/2844 [==============================] - 858s 302ms/step - loss: 6.2962\n",
      "Epoch 6/50\n",
      "2844/2844 [==============================] - ETA: 0s - loss: 6.0899\n",
      "Epoch 00006: saving model to ./CheckPoint\\lstmJiebaV2Cp.ckpt\n",
      "2844/2844 [==============================] - 858s 302ms/step - loss: 6.0899\n",
      "Epoch 7/50\n",
      "2844/2844 [==============================] - ETA: 0s - loss: 5.9120\n",
      "Epoch 00007: saving model to ./CheckPoint\\lstmJiebaV2Cp.ckpt\n",
      "2844/2844 [==============================] - 857s 301ms/step - loss: 5.9120\n",
      "Epoch 8/50\n",
      "2844/2844 [==============================] - ETA: 0s - loss: 5.7528\n",
      "Epoch 00008: saving model to ./CheckPoint\\lstmJiebaV2Cp.ckpt\n",
      "2844/2844 [==============================] - 855s 301ms/step - loss: 5.7528\n",
      "Epoch 9/50\n",
      "2844/2844 [==============================] - ETA: 0s - loss: 5.6084\n",
      "Epoch 00009: saving model to ./CheckPoint\\lstmJiebaV2Cp.ckpt\n",
      "2844/2844 [==============================] - 855s 301ms/step - loss: 5.6084\n",
      "Epoch 10/50\n",
      "2844/2844 [==============================] - ETA: 0s - loss: 5.4722\n",
      "Epoch 00010: saving model to ./CheckPoint\\lstmJiebaV2Cp.ckpt\n",
      "2844/2844 [==============================] - 854s 300ms/step - loss: 5.4722\n",
      "Epoch 11/50\n",
      "2844/2844 [==============================] - ETA: 0s - loss: 5.3451\n",
      "Epoch 00011: saving model to ./CheckPoint\\lstmJiebaV2Cp.ckpt\n",
      "2844/2844 [==============================] - 854s 300ms/step - loss: 5.3451\n",
      "Epoch 12/50\n",
      "2844/2844 [==============================] - ETA: 0s - loss: 5.2241\n",
      "Epoch 00012: saving model to ./CheckPoint\\lstmJiebaV2Cp.ckpt\n",
      "2844/2844 [==============================] - 854s 300ms/step - loss: 5.2241\n",
      "Epoch 13/50\n",
      "2844/2844 [==============================] - ETA: 0s - loss: 5.1091\n",
      "Epoch 00013: saving model to ./CheckPoint\\lstmJiebaV2Cp.ckpt\n",
      "2844/2844 [==============================] - 854s 300ms/step - loss: 5.1091\n",
      "Epoch 14/50\n",
      "2844/2844 [==============================] - ETA: 0s - loss: 4.9992\n",
      "Epoch 00014: saving model to ./CheckPoint\\lstmJiebaV2Cp.ckpt\n",
      "2844/2844 [==============================] - 854s 300ms/step - loss: 4.9992\n",
      "Epoch 15/50\n",
      "2844/2844 [==============================] - ETA: 0s - loss: 4.8940\n",
      "Epoch 00015: saving model to ./CheckPoint\\lstmJiebaV2Cp.ckpt\n",
      "2844/2844 [==============================] - 854s 300ms/step - loss: 4.8940\n",
      "Epoch 16/50\n",
      "2844/2844 [==============================] - ETA: 0s - loss: 4.7938\n",
      "Epoch 00016: saving model to ./CheckPoint\\lstmJiebaV2Cp.ckpt\n",
      "2844/2844 [==============================] - 854s 300ms/step - loss: 4.7938\n",
      "Epoch 17/50\n",
      "2844/2844 [==============================] - ETA: 0s - loss: 4.6995\n",
      "Epoch 00017: saving model to ./CheckPoint\\lstmJiebaV2Cp.ckpt\n",
      "2844/2844 [==============================] - 853s 300ms/step - loss: 4.6995\n",
      "Epoch 18/50\n",
      "2844/2844 [==============================] - ETA: 0s - loss: 4.6090\n",
      "Epoch 00018: saving model to ./CheckPoint\\lstmJiebaV2Cp.ckpt\n",
      "2844/2844 [==============================] - 854s 300ms/step - loss: 4.6090\n",
      "Epoch 19/50\n",
      "2844/2844 [==============================] - ETA: 0s - loss: 4.5229\n",
      "Epoch 00019: saving model to ./CheckPoint\\lstmJiebaV2Cp.ckpt\n",
      "2844/2844 [==============================] - 851s 299ms/step - loss: 4.5229\n",
      "Epoch 20/50\n",
      "2844/2844 [==============================] - ETA: 0s - loss: 4.4416\n",
      "Epoch 00020: saving model to ./CheckPoint\\lstmJiebaV2Cp.ckpt\n",
      "2844/2844 [==============================] - 854s 300ms/step - loss: 4.4416\n",
      "Epoch 21/50\n",
      "2844/2844 [==============================] - ETA: 0s - loss: 4.3642\n",
      "Epoch 00021: saving model to ./CheckPoint\\lstmJiebaV2Cp.ckpt\n",
      "2844/2844 [==============================] - 850s 299ms/step - loss: 4.3642\n",
      "Epoch 22/50\n",
      "2844/2844 [==============================] - ETA: 0s - loss: 4.2913\n",
      "Epoch 00022: saving model to ./CheckPoint\\lstmJiebaV2Cp.ckpt\n",
      "2844/2844 [==============================] - 853s 300ms/step - loss: 4.2913\n",
      "Epoch 23/50\n",
      "2844/2844 [==============================] - ETA: 0s - loss: 4.2226\n",
      "Epoch 00023: saving model to ./CheckPoint\\lstmJiebaV2Cp.ckpt\n",
      "2844/2844 [==============================] - 848s 298ms/step - loss: 4.2226\n",
      "Epoch 24/50\n",
      "2844/2844 [==============================] - ETA: 0s - loss: 4.1575\n",
      "Epoch 00024: saving model to ./CheckPoint\\lstmJiebaV2Cp.ckpt\n",
      "2844/2844 [==============================] - 852s 300ms/step - loss: 4.1575\n",
      "Epoch 25/50\n",
      "2844/2844 [==============================] - ETA: 0s - loss: 4.0958\n",
      "Epoch 00025: saving model to ./CheckPoint\\lstmJiebaV2Cp.ckpt\n",
      "2844/2844 [==============================] - 848s 298ms/step - loss: 4.0958\n",
      "Epoch 26/50\n",
      "2844/2844 [==============================] - ETA: 0s - loss: 4.0374\n",
      "Epoch 00026: saving model to ./CheckPoint\\lstmJiebaV2Cp.ckpt\n",
      "2844/2844 [==============================] - 851s 299ms/step - loss: 4.0374\n",
      "Epoch 27/50\n",
      "2844/2844 [==============================] - ETA: 0s - loss: 3.9831\n",
      "Epoch 00027: saving model to ./CheckPoint\\lstmJiebaV2Cp.ckpt\n",
      "2844/2844 [==============================] - 847s 298ms/step - loss: 3.9831\n",
      "Epoch 28/50\n",
      "2844/2844 [==============================] - ETA: 0s - loss: 3.9308\n",
      "Epoch 00028: saving model to ./CheckPoint\\lstmJiebaV2Cp.ckpt\n",
      "2844/2844 [==============================] - 850s 299ms/step - loss: 3.9308\n",
      "Epoch 29/50\n",
      "2844/2844 [==============================] - ETA: 0s - loss: 3.8822\n",
      "Epoch 00029: saving model to ./CheckPoint\\lstmJiebaV2Cp.ckpt\n",
      "2844/2844 [==============================] - 847s 298ms/step - loss: 3.8822\n",
      "Epoch 30/50\n",
      "2844/2844 [==============================] - ETA: 0s - loss: 3.8360\n",
      "Epoch 00030: saving model to ./CheckPoint\\lstmJiebaV2Cp.ckpt\n",
      "2844/2844 [==============================] - 849s 299ms/step - loss: 3.8360\n",
      "Epoch 31/50\n",
      "2844/2844 [==============================] - ETA: 0s - loss: 3.7923\n",
      "Epoch 00031: saving model to ./CheckPoint\\lstmJiebaV2Cp.ckpt\n",
      "2844/2844 [==============================] - 845s 297ms/step - loss: 3.7923\n",
      "Epoch 32/50\n",
      "2844/2844 [==============================] - ETA: 0s - loss: 3.7507\n",
      "Epoch 00032: saving model to ./CheckPoint\\lstmJiebaV2Cp.ckpt\n",
      "2844/2844 [==============================] - 848s 298ms/step - loss: 3.7507\n",
      "Epoch 33/50\n",
      "2844/2844 [==============================] - ETA: 0s - loss: 3.7116\n",
      "Epoch 00033: saving model to ./CheckPoint\\lstmJiebaV2Cp.ckpt\n",
      "2844/2844 [==============================] - 845s 297ms/step - loss: 3.7116\n",
      "Epoch 34/50\n",
      "2844/2844 [==============================] - ETA: 0s - loss: 3.6741\n",
      "Epoch 00034: saving model to ./CheckPoint\\lstmJiebaV2Cp.ckpt\n",
      "2844/2844 [==============================] - 848s 298ms/step - loss: 3.6741\n",
      "Epoch 35/50\n",
      "2844/2844 [==============================] - ETA: 0s - loss: 3.6390\n",
      "Epoch 00035: saving model to ./CheckPoint\\lstmJiebaV2Cp.ckpt\n",
      "2844/2844 [==============================] - 845s 297ms/step - loss: 3.6390\n",
      "Epoch 36/50\n",
      "2844/2844 [==============================] - ETA: 0s - loss: 3.6061\n",
      "Epoch 00036: saving model to ./CheckPoint\\lstmJiebaV2Cp.ckpt\n",
      "2844/2844 [==============================] - 847s 298ms/step - loss: 3.6061\n",
      "Epoch 37/50\n",
      "2844/2844 [==============================] - ETA: 0s - loss: 3.5736\n",
      "Epoch 00037: saving model to ./CheckPoint\\lstmJiebaV2Cp.ckpt\n",
      "2844/2844 [==============================] - 844s 297ms/step - loss: 3.5736\n",
      "Epoch 38/50\n",
      "2844/2844 [==============================] - ETA: 0s - loss: 3.5436\n",
      "Epoch 00038: saving model to ./CheckPoint\\lstmJiebaV2Cp.ckpt\n",
      "2844/2844 [==============================] - 846s 297ms/step - loss: 3.5436\n",
      "Epoch 39/50\n",
      "2844/2844 [==============================] - ETA: 0s - loss: 3.5153\n",
      "Epoch 00039: saving model to ./CheckPoint\\lstmJiebaV2Cp.ckpt\n",
      "2844/2844 [==============================] - 844s 297ms/step - loss: 3.5153\n",
      "Epoch 40/50\n",
      "2844/2844 [==============================] - ETA: 0s - loss: 3.4876\n",
      "Epoch 00040: saving model to ./CheckPoint\\lstmJiebaV2Cp.ckpt\n",
      "2844/2844 [==============================] - 846s 297ms/step - loss: 3.4876\n",
      "Epoch 41/50\n",
      "2844/2844 [==============================] - ETA: 0s - loss: 3.4618\n",
      "Epoch 00041: saving model to ./CheckPoint\\lstmJiebaV2Cp.ckpt\n",
      "2844/2844 [==============================] - 848s 298ms/step - loss: 3.4618\n",
      "Epoch 42/50\n",
      "2844/2844 [==============================] - ETA: 0s - loss: 3.4372\n",
      "Epoch 00042: saving model to ./CheckPoint\\lstmJiebaV2Cp.ckpt\n",
      "2844/2844 [==============================] - 846s 297ms/step - loss: 3.4372\n",
      "Epoch 43/50\n",
      "2844/2844 [==============================] - ETA: 0s - loss: 3.4130\n",
      "Epoch 00043: saving model to ./CheckPoint\\lstmJiebaV2Cp.ckpt\n",
      "2844/2844 [==============================] - 847s 298ms/step - loss: 3.4130\n",
      "Epoch 44/50\n",
      "2844/2844 [==============================] - ETA: 0s - loss: 3.3907\n",
      "Epoch 00044: saving model to ./CheckPoint\\lstmJiebaV2Cp.ckpt\n",
      "2844/2844 [==============================] - 845s 297ms/step - loss: 3.3907\n",
      "Epoch 45/50\n",
      "2844/2844 [==============================] - ETA: 0s - loss: 3.3689\n",
      "Epoch 00045: saving model to ./CheckPoint\\lstmJiebaV2Cp.ckpt\n",
      "2844/2844 [==============================] - 848s 298ms/step - loss: 3.3689\n",
      "Epoch 46/50\n",
      "2844/2844 [==============================] - ETA: 0s - loss: 3.3480\n",
      "Epoch 00046: saving model to ./CheckPoint\\lstmJiebaV2Cp.ckpt\n",
      "2844/2844 [==============================] - 846s 297ms/step - loss: 3.3480\n",
      "Epoch 47/50\n",
      "2844/2844 [==============================] - ETA: 0s - loss: 3.3285\n",
      "Epoch 00047: saving model to ./CheckPoint\\lstmJiebaV2Cp.ckpt\n",
      "2844/2844 [==============================] - 847s 298ms/step - loss: 3.3285\n",
      "Epoch 48/50\n",
      "2844/2844 [==============================] - ETA: 0s - loss: 3.3097\n",
      "Epoch 00048: saving model to ./CheckPoint\\lstmJiebaV2Cp.ckpt\n",
      "2844/2844 [==============================] - 845s 297ms/step - loss: 3.3097\n",
      "Epoch 49/50\n",
      "2844/2844 [==============================] - ETA: 0s - loss: 3.2914\n",
      "Epoch 00049: saving model to ./CheckPoint\\lstmJiebaV2Cp.ckpt\n",
      "2844/2844 [==============================] - 847s 298ms/step - loss: 3.2914\n",
      "Epoch 50/50\n",
      "2844/2844 [==============================] - ETA: 0s - loss: 3.2745\n",
      "Epoch 00050: saving model to ./CheckPoint\\lstmJiebaV2Cp.ckpt\n",
      "2844/2844 [==============================] - 846s 297ms/step - loss: 3.2745\n"
     ]
    }
   ],
   "source": [
    "EPOCHS = 50\n",
    "history = model.fit(\n",
    "    dataset, # 前面使用 tf.data 建構的資料集\n",
    "    epochs=EPOCHS,\n",
    "    callbacks=[cp_callback]\n",
    ")"
   ]
  },
  {
   "cell_type": "code",
   "execution_count": 23,
   "metadata": {
    "colab": {
     "base_uri": "https://localhost:8080/",
     "height": 295
    },
    "executionInfo": {
     "elapsed": 23,
     "status": "ok",
     "timestamp": 1652449862837,
     "user": {
      "displayName": "547蘇勁安",
      "userId": "12901927310267751394"
     },
     "user_tz": -480
    },
    "id": "xxbK80fXpOWD",
    "outputId": "ec8440a0-18a9-4090-d493-71737e2df866"
   },
   "outputs": [
    {
     "data": {
      "image/png": "[encoded data removed]",
      "text/plain": [
       "<Figure size 640x480 with 1 Axes>"
      ]
     },
     "metadata": {},
     "output_type": "display_data"
    }
   ],
   "source": [
    "plt.plot(history.history['loss'])\n",
    "plt.title('model loss')\n",
    "plt.ylabel('loss')\n",
    "plt.xlabel('epoch')\n",
    "\n",
    "plt.show()"
   ]
  },
  {
   "cell_type": "code",
   "execution_count": 24,
   "metadata": {
    "colab": {
     "base_uri": "https://localhost:8080/"
    },
    "executionInfo": {
     "elapsed": 11,
     "status": "ok",
     "timestamp": 1652449863952,
     "user": {
      "displayName": "547蘇勁安",
      "userId": "12901927310267751394"
     },
     "user_tz": -480
    },
    "id": "A3elbMNg4z4N",
    "outputId": "7528a5a6-253d-4042-f0b0-e343d0117865"
   },
   "outputs": [
    {
     "name": "stdout",
     "output_type": "stream",
     "text": [
      "原本的中文字序列：\n",
      "田寡妇就跟男劳力一样跑坡下地挣工分等到俩\n",
      "----------------------------------------\n",
      "輸入進訓練後的model後獲得：\n",
      "\n",
      "寡妇便会在劳力一样跑长途下地走工分赚点天亮人\n"
     ]
    }
   ],
   "source": [
    "after_train_predictions = model(input_example)\n",
    "after_sampled_indices = tf.argmax(after_train_predictions[0],1)\n",
    "\n",
    "print(\"原本的中文字序列：\")\n",
    "[print(index2Word[ind],end=\"\") for ind in input_example[0].numpy()]\n",
    "print()\n",
    "print(\"-\"*40)\n",
    "print(\"輸入進訓練後的model後獲得：\")\n",
    "print()\n",
    "\n",
    "[print(index2Word[ind],end=\"\") for ind in after_sampled_indices.numpy()]\n",
    "print()"
   ]
  },
  {
   "cell_type": "code",
   "execution_count": 25,
   "metadata": {},
   "outputs": [],
   "source": [
    "modelName = 'LSTM_OpLab_Jieba_V2'\n",
    "model.save(\"./Model/\"+ modelName +\".h5\")\n",
    "# 保存模型权重的路径\n",
    "model.save_weights(\"./Model/\"+ modelName)\n",
    "jsonDict = json.dumps(word2Index, indent=2, ensure_ascii=False)\n",
    "with open ('./Model/' + modelName + '_dic.json', \"w\",  encoding=\"utf-8\") as outfile:\n",
    "    outfile.write(jsonDict)"
   ]
  },
  {
   "cell_type": "code",
   "execution_count": 26,
   "metadata": {},
   "outputs": [],
   "source": [
    "# 預測文字，並把預測文字循環當作下一次的輸入\n",
    "\n",
    "# 設定你的temperature\n",
    "temperature = 0.01\n",
    "\n",
    "def generateWords(input,words=500):\n",
    "    [print(index2Word[ind],end=\"\") for ind in input]\n",
    "    for i in range(words):\n",
    "        next_input = tf.expand_dims(input,axis=0)\n",
    "        predicts = model(next_input)\n",
    "        predicts = predicts[:,-1,:]\n",
    "        predicts /= temperature\n",
    "        result = tf.random.categorical(\n",
    "            predicts,num_samples=1\n",
    "        )\n",
    "        chinese_ind = tf.squeeze(result).numpy()\n",
    "        print(index2Word[chinese_ind],end=\"\")\n",
    "        input = input+[chinese_ind]\n",
    "        input = input[-seq_len:]"
   ]
  },
  {
   "cell_type": "code",
   "execution_count": 27,
   "metadata": {},
   "outputs": [
    {
     "name": "stdout",
     "output_type": "stream",
     "text": [
      "鬼去求你说我蒋丽发出一声尖叫差点把我拽住了赵杰轻轻地记录片跑到床边笑盈盈地望着我我农用车要星女郎急忙跟着去采访自己的好友决定要陈对他说付着她他求她多此一举她你知道你的名字是我的没去吗她拉茬的声音越来越大踏嗒的麻大嘴保住了性命钱生小玩意对钱生说老夫人受难矣大师大师沉吟片刻说碧莲乃此事今日必有丰富啊!妯娌谁都说是侍侯了善人赵元稹的电影票那是上个世纪50的年代的产物苦于居然不见了连内脏都没有也就剩下了黑布把它的力量打动了起来三娃的学校舌尖已经阳寿快到了含着出乎他的小心眼们作势要代写的是青青他吓得浑身一哆嗦争吵过后老人们都吞下去了说杏树军说说林边夜时的人也未必知道劳动力渔人.闪失亲启有一个订金请放心满脚吃却牛气大意了于是就请来了道士道士向他招手大伙儿就响了说黑子的坟前摆上了桃木剑连轮胎上都挖到了泥婆婆见每具尸体上都死了不少人看起来很面熟他七夕在他的身边思虑了一句我不高但他的眼神却很苍白我收魂的炮火过去也没有好评我非木诱惑惆怅得很近他的体重也越来越多终于变成了数个女人的信息那张脸都白了一般揭了古妍的脸听不进去他用武之地]她就是朝阳区有事吃喝玩乐勇往直前给她带来些许安全感小雯的发言破碎的声音传到我的耳膜天职的声音再次响起了雷鸣般的掌声响起这个故事我乃有个顿生八卦是高辰的黄色法拉利进去潘先生的春生下在你的身边这十来年冰窟中一柱了我动人号令的人们突然变得很吓人纷纷鼓掌在我脸前站了出来我加满身血迹的裂缝在四处游荡我是个爱艺术重的啊!我的心喝高了燕小北双眸笑着摇了摇头说你事不宜迟回煞跟着老子家祖坟生过饭吃过奶糖就是装做鸽子烧所以就跳过来吃吧反正都是酒能的还要大名鼎鼎生出鸽子而且翅膀的他抬起了头脸就像便点了两半一般透彻了下来下意一般的撅着嘴笼罩在小希我下层要被炸死所以自杀的我的灵魂已经变成了对称的什么东西在我眼前冰冰凉的阿布已经被应聘了翻来翻去居然也和她派出所出来后开始凡答谢并说是结结实实凶手的血竟然长出了一摊血水过了吴昊的作用helliphellip幽远绿莹莹的光芒使自己的心紧缩而出券的灯光下杨松变回了黄色的虎乱发戒指头发还带着流年和一般无二儿的网友一起走来古斯的子孙们没有工作勤奋而且老白干此刻是十里八乡胆大的阿发他的朋友在年复一年地传了出来认识一下你在欲言我黑着邵杰州的梦梦里的女人坤州是晚间新闻而我的浴镜里还有个女朋友她加力渐渐变得越来越早起天渐渐的大烈倒了起来顺路去院子里那买着挑出来和着骨头新坟许明卉讨价还价下了取小东手里大老远的出去组组长说了一些好话让我去看看人参过日子了我女士们一去就在附近的池塘边挖坟而又是大大小小的遗赠所以他融如上了锁中间的架子和平时都是床沿内有一张脸把桶的双瞳飘在盛德的脸上散花短裙盖个立突然又被人的眼神所吸引而又扭曲又进头而家种的原因当然信口开河然而就在这时地擦了吸口又道了声你来看看你的盖成了贼的大凶啊我吓得大叫了起来原来是120次横心上忙哭出精神病变成了死胎小凡快救她陈洋取出老远便负责打成所有框架衣物上白晓我的衣物自行进入了它它的碎片在我的屋子里发出了一声尖叫我自作聪明的却常还在享受我的想象我水浸泡双手在身上沉甸甸的已经是面目全非了钦差在他身上当事人也是利用这群黄金来认尸纵横驰骋的封禁也是徒生投入所以这种情况卡号旺盛的同学发现了外滩整条教室是陈霞平时两家的关系神煞都在坟场附近寻找灵感或是冰糖当小美比如他们二女进行各种话题所以我决定领旨看看环城列车等太平刚刚9点钟我不吸我的河河我不得不卖烟要将伸过去抱在地的边缘匕首刺向了他的身体他起舞牙齿卷轴后再挣扎2018救女鬼消失不见了蚌五七三十五可不是三十儿这三队倒是要上几回罢了罢了车链子上了消融了姑娘!王娜吓得一哆嗦随即转身离去了樱如怔怔的看着窗外的月光下大洋的声音伴着李磊说来也怪凄凉乃的是世间最恨的贪欲居然连家族的对头都没有法拉利的人即便能知晓却不愿意在黑暗中南州说是城市形象在问出了什么似的善人赵元稹的邀请向上一纸灰日常用品的小圆镜找到了棺材盖棺材挖出了李雄的符咒里面全是黑佛压根没有岔道而是被他推得度蜜月自己做了一个梦吧我村事出事早来把你家的钱给扔了徐媚接过的香烟痴痴说道天克地啊古娜挑畔那股阴风吹得四周凝神皆作响三人同时惊叫起来我摇身一变清醒了一个小时细心的车票没错儿在于脚伤一场车祸神学家朗杰再次孔向这条又是一幢山寨里的大楼如今膻味他开启了所有的灯都灭了结巴了袋子里的钱都叫苗着我你给我店的你会很感激赵诚的手神乎其技变着法一卷鞭子说来就依我这小子何苦订婚表姐也不答应他南来北往的孝顺自己302的就是花镜还有缘由的提醒麻子就是要嘲笑着我这个征服和兰氏电线瓦解样品被解除成功把我吓了一跳或许是谑药包赴游客乘坐的汽车归途仅蔡见又找对象二成子平日里都是在播放的节目里这件事都是后人可是她没那回事了后院又开始动工了最初的穿鞋这下子这些事就金融系了经某天夜里人们听到消息后被他循着我的眼睛打瞎了过来天惩校长的校友开始此地与热心网友作法被众新人各有投宿之时连山皆是皇室于一般的石块押着而去十五个桥破裂出了车祸一辆高架桥的荒草从屋内传出了一声攻下了东屋里峨眉山里福春才想起了塞尔吉奥四周钢筒的清理见怪不怪苏黎准备休息一公里手想走到多一事不如少一事时便将此事封闭起来而这仙姑又犯了一些碰破后又会被第七轮霹雳活计在光圈中化作了血水一路货师法杂草刘坤向来如此了黑洞温厚地关这只鬼使我陡然收敛起怒不可遏和委屈等我的反应过来我刚办了就此宛碧莲哈哈大笑哥交到我的腰上红纱武器青挤上去送给她小霞把她厚葬在他的家里步入了这所老宅的房子磙子都是在晚上兰花着闹过遗产的人讲话都搅碎了弄伤不高兴战火还是更是纵容天猫夫妇这一世谁也无法相信恩德留给他们报酬的价格牵连到这一天三棵家中没有完人就盼着他残缺的孩子捉贼都成了恶魔他上游东天了胖子法海看在眼里这孩子微光的时候还栽在荷塘里窘的一觉醒来发现自己的遗像是一具尸体叶华知道是自己捡破烂的十五岁时她湿了绷带的眼睛她看着她的嘴唇不停的打着寒战霎时感觉怪怪的她土豪就吓得不轻届的无奈何前不久突然陆陆续续发生了一宗"
     ]
    }
   ],
   "source": [
    "cc = OpenCC('t2s')\n",
    "init_seq = cc.convert(\"鬼\")\n",
    "init_seq_ind = [word2Index[w] for w in init_seq]\n",
    "input = init_seq_ind[-seq_len:]\n",
    "\n",
    "generateWords(input,1500)"
   ]
  }
 ],
 "metadata": {
  "accelerator": "GPU",
  "colab": {
   "collapsed_sections": [],
   "name": "TextGeneration_108403547.ipynb",
   "provenance": []
  },
  "kernelspec": {
   "display_name": "IR-new",
   "language": "python",
   "name": "python3"
  },
  "language_info": {
   "codemirror_mode": {
    "name": "ipython",
    "version": 3
   },
   "file_extension": ".py",
   "mimetype": "text/x-python",
   "name": "python",
   "nbconvert_exporter": "python",
   "pygments_lexer": "ipython3",
   "version": "3.8.18"
  }
 },
 "nbformat": 4,
 "nbformat_minor": 4
}
