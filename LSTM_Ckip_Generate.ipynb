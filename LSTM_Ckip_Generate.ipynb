{
 "cells": [
  {
   "cell_type": "code",
   "execution_count": 1,
   "metadata": {
    "executionInfo": {
     "elapsed": 5641,
     "status": "ok",
     "timestamp": 1652446990874,
     "user": {
      "displayName": "547蘇勁安",
      "userId": "12901927310267751394"
     },
     "user_tz": -480
    },
    "id": "pPCmAo0Q_G3i"
   },
   "outputs": [],
   "source": [
    "import numpy as np\n",
    "import pandas as pd\n",
    "import os\n",
    "import json\n",
    "import re\n",
    "import matplotlib.pyplot as plt\n",
    "from tensorflow import keras\n",
    "from tensorflow.keras import layers\n",
    "import tensorflow as tf\n",
    "from opencc import OpenCC"
   ]
  },
  {
   "cell_type": "code",
   "execution_count": 2,
   "metadata": {
    "colab": {
     "base_uri": "https://localhost:8080/"
    },
    "executionInfo": {
     "elapsed": 4454,
     "status": "ok",
     "timestamp": 1652447098041,
     "user": {
      "displayName": "547蘇勁安",
      "userId": "12901927310267751394"
     },
     "user_tz": -480
    },
    "id": "YKiszF5doFGz",
    "outputId": "d0954123-aaaf-49fc-9598-dcc1ec6505c4"
   },
   "outputs": [
    {
     "name": "stderr",
     "output_type": "stream",
     "text": [
      "2023-12-12 00:24:41.916362: I metal_plugin/src/device/metal_device.cc:1154] Metal device set to: Apple M1 Pro\n",
      "2023-12-12 00:24:41.916385: I metal_plugin/src/device/metal_device.cc:296] systemMemory: 16.00 GB\n",
      "2023-12-12 00:24:41.916390: I metal_plugin/src/device/metal_device.cc:313] maxCacheSize: 5.33 GB\n",
      "2023-12-12 00:24:41.916446: I tensorflow/core/common_runtime/pluggable_device/pluggable_device_factory.cc:306] Could not identify NUMA node of platform GPU ID 0, defaulting to 0. Your kernel may not have been built with NUMA support.\n",
      "2023-12-12 00:24:41.916590: I tensorflow/core/common_runtime/pluggable_device/pluggable_device_factory.cc:272] Created TensorFlow device (/job:localhost/replica:0/task:0/device:GPU:0 with 0 MB memory) -> physical PluggableDevice (device: 0, name: METAL, pci bus id: <undefined>)\n"
     ]
    }
   ],
   "source": [
    "# switch model\n",
    "modelName = 'LSTM_OpLab_CKIP_V2'\n",
    "model = tf.keras.models.load_model('./Model/'+ modelName +'.h5')"
   ]
  },
  {
   "cell_type": "code",
   "execution_count": 3,
   "metadata": {
    "colab": {
     "base_uri": "https://localhost:8080/"
    },
    "executionInfo": {
     "elapsed": 6,
     "status": "ok",
     "timestamp": 1652447020633,
     "user": {
      "displayName": "547蘇勁安",
      "userId": "12901927310267751394"
     },
     "user_tz": -480
    },
    "id": "6LP0BwFDAmcS",
    "outputId": "a082dad7-3cd9-4910-b24a-911a0f039b9f"
   },
   "outputs": [],
   "source": [
    "# 文字轉數字(index)\n",
    "with open('./Model/'+ modelName +'_dic.json', 'r', encoding='utf-8') as fileRead:\n",
    "        word2Index = json.load(fileRead)\n",
    "index2Word = {word2Index[word]:word for word in word2Index}"
   ]
  },
  {
   "cell_type": "code",
   "execution_count": 8,
   "metadata": {
    "executionInfo": {
     "elapsed": 9,
     "status": "ok",
     "timestamp": 1652449863952,
     "user": {
      "displayName": "547蘇勁安",
      "userId": "12901927310267751394"
     },
     "user_tz": -480
    },
    "id": "b3ryhOIg4-qB"
   },
   "outputs": [],
   "source": [
    "# 預測文字，並把預測文字循環當作下一次的輸入\n",
    "\n",
    "# 設定你的temperature\n",
    "temperature = 0.005\n",
    "seq_len = 15\n",
    "\n",
    "def generateWords(input, wordCount=100):\n",
    "    paragraph = \"\"\n",
    "    for ind in input:\n",
    "        paragraph += index2Word[ind]\n",
    "        \n",
    "    while len(paragraph) < wordCount:\n",
    "        next_input = tf.expand_dims(input,axis=0)\n",
    "        predicts = model(next_input)\n",
    "        predicts = predicts[:,-1,:]\n",
    "        predicts /= temperature\n",
    "        result = tf.random.categorical(\n",
    "            predicts,num_samples=1\n",
    "        )\n",
    "        chinese_ind = tf.squeeze(result).numpy()\n",
    "        # print(index2Word[chinese_ind],end=\"\")\n",
    "        paragraph += index2Word[chinese_ind]\n",
    "        input = input+[chinese_ind]\n",
    "        input = input[-seq_len:]\n",
    "    return paragraph"
   ]
  },
  {
   "cell_type": "code",
   "execution_count": 9,
   "metadata": {
    "colab": {
     "base_uri": "https://localhost:8080/"
    },
    "executionInfo": {
     "elapsed": 44290,
     "status": "ok",
     "timestamp": 1652449908233,
     "user": {
      "displayName": "547蘇勁安",
      "userId": "12901927310267751394"
     },
     "user_tz": -480
    },
    "id": "l7ELuAjW3rKW",
    "outputId": "3c93e08c-8a95-4efc-8684-1deb28bd4b79"
   },
   "outputs": [],
   "source": [
    "init_seq = \"有鬼\"\n",
    "init_seq_ind = [word2Index[w] for w in init_seq]\n",
    "input = init_seq_ind[-seq_len:]\n",
    "\n",
    "result = generateWords(input,2000)"
   ]
  },
  {
   "cell_type": "code",
   "execution_count": 10,
   "metadata": {},
   "outputs": [
    {
     "data": {
      "text/plain": [
       "'有鬼嗎我法規我的第二人格可是我也不知道我是誰我的心裏卻充滿了一絲涼意我也不知道我是誰我在一個特定的家境貧寒的學生組織郊遊時我和體育老師提供給我的點點滴滴來到了地下室裏她的目光映在她臉上她的臉色煞白頓時了一個勁的往家裏走去我想我不會忘記這個樣子的她李多去極致抄個地方來一看這個時候我的心裏有些發毛了我突然覺得有一種莫名的恐懼感湧上心頭我的心咯噔一下絕跡不敢再多想着青墨的眼睛正當她目不轉睛的看着我我不知道我是誰嗎她的眼睛被人打瞎了當時他還是覺得美滋滋的取笑了就這樣阿雯和高芳甸的變化那天我在家裏等我醒過來的時候發現自己躺在牀上倫勃朗和小林也是空房的到了這裏我一個人在家裏玳瑁臨了藉着酒勁還有點神經質大步朝着一個小房間邊走去我是個陳洋你跟我說我後視鏡看看你有沒有看見你捂着臉回過神咳咳我想了想我不是開玩笑的說嗯我不是故意的我不信我說你不要我了你就是你的今生我不想再提起你現在還想再看到什麼問題!我也不知道我是誰我是你夫君我的手冰涼冰涼的眼神奧古斯特醜瑤抹了一驚接着說我乃今日今日我被一個老人咒罵一頓決計沒有荒誕不稽的香火錢不算高的一個高價購買的鴕鳥肉不過1遍而我的生命就會自行穿梭殆盡只見趙誠盡爲郝晴雪雖然已是在這個世界上旁人看得見鬼的故事了他一步嘆息一種神話猜測死者生前是一個胡亂訓練的人在一個山村的年代長大的時間很長他穩坐的表面從今夜裏傳出不祥的聲音這是我的幻覺之後我才知道原來我是個瞎子我方健了於是她夢美得很久沒幾天就哭紅了心裏想着什麼東西反而有些不爽的感覺難道是鬼在監視我的視線一個灰色的黑色影子站在我面前我還以爲我是個變態而我是鬼的能力我也是你的另一半我想我是一個高中生他的心裏有數不盡的遺憾我不想追究但我還是想見見她做什麼我梁欣渾身都白了我不敢再想下去了我的女王笑眯眯地說我也不想讓你把我的孩子嫁給我說你不是要娶個好消息打過來的她玩怕就把他拉到了一邊下定了很久沒有看見過這個人他的雙眼虛構的上是個懸疑作家的復仇計劃這個時候我的心裏還是有些難受我不是我我不是鬼!我香菸口頭說道5月5日5月10日那個早晨段菲的老婆在家裏守着小男孩打來的韓格把手放在桌上自己一邊喫一邊喝酒一邊喝酒一邊抹着眼淚對着那個男人笑了笑了李澤宇也不想發憷了明明看不見韓格客臥距離書房有七八米遠的地方血汗錢醒來已經是凌晨了晚上腳步聲越來越近了他回頭看了一眼那個女人的臉色煞白聯誼一下一下就是那個人的我不知道她的臉是什麼我看了看我腦海裏浮想連篇猜測這個問題是個女的在他家裏辦了一個修理的地鐵來到了一條偏僻的公路上經過一系列的情況下一秒一步一步一步的向後挪動步子還沒等我回頭一看原來是一個嚎叫聲一個挨着懸崖向的居士中他林燕的臉看着他說這是他的一個遠房親戚這個人很勤快大家都很好因爲在那個偏僻貧窮的地方有個當地人說是一個習俗叫人保佑也不算什麼奇談地要錢老闆和張珊珊非常的震驚可他的心裏卻犯起了嘀咕他母親的死因是因爲六七十歲的年齡整日的擁抱着她幼小的心靈裏被李雄描繪的一乾二淨部位是一張殘缺不全的畫上面還有一個穿着粉紅色的衣服她穿着一件紅色的呢子風衣長髮垂肩纖細的慧眼真是這輪廓是血漬飄飄的落在地上面目猙獰的尖細的脆響那是一個蒼老的女人卻猛地揮刀退了幾步他就開始了禱告不怎麼樣啊這個人是屎蛋的忌鍾馗把魂還給賴孬吧這次朗傑是個二流子有神的人收買了讓他晚點再買下它要了一個饅頭送花圈一家餐館的中年人趁他不備趕回了黑山寨幸好他以爲是某個富翁撲通一下方向盤上兩隻腳都沒有了只剩下了東誣什麼的事我一個人在家裏等我醒來的時候已經是晚上了他的父母去了教室的門前透過貓眼看了看四周一片漆黑就像是一個人浮在空中腳上血跡斑斑殘缺不全的身體看起來也像長着一個四肢和肌肉和潮流他們一樣要製成的我家屬於居壘成家中貧窮沒有沒有任何美景而且大嚷着鴕鳥肉不敢了水也不知過了多久我醒了過來我看見我的身後有一個叫船伕的人大聲喊你快看張老三說完就不見了我打扮成1條什麼顏色款式很長的小鬍子朝着我招手的動作真不知道我會在熊貓前的樣子走開走開!趙傑趕緊富家說着地道我不要這樣了我不是說過的若是相逢未曾有感情的事但是我卻不知道是什麼促使我視而不見小琳我會打完儲藏室把它放到一塊鴕鳥肉的兩邊還有一隻灰曬太陽可是他口袋裏也有一個鐘加一陣嘩嘩的水聲吵醒了我我不知道韓格在哪裏都有你大姑就在等她韓格已經被這個聲音吵醒了我在QQ上看到了一個真實的故事故事是在一個晚上剛纔我聽到了那個聲音卻沒有了我的聲音聲音很悽慘彷彿在我的耳間響起我連忙記程車找尋方向藉着微弱的光芒我看見一個穿着黑黑黑黑的衣服睜着滿是麻子警惕的看着我我立正打了我我就可以消滅我的靈魂我的心臟就好了這種事你繁多最好的一個畜生你醫的是我讀中學的第一個故事是我一個朋友講的故事我正派初一千年後他路天不久高燒了一家鄰里都快凌晨一點了江虹仍然沒有問起媽媽她不知道她是什麼原因她朱利安地看了一眼她的心裏還是有點怦怦地笑笑這才發現自己身處'"
      ]
     },
     "execution_count": 10,
     "metadata": {},
     "output_type": "execute_result"
    }
   ],
   "source": [
    "result"
   ]
  },
  {
   "cell_type": "code",
   "execution_count": 11,
   "metadata": {},
   "outputs": [],
   "source": [
    "with open ('./Results/'+ modelName +'_1.txt', 'w', encoding='utf-8') as outFile:\n",
    "    outFile.write(result)"
   ]
  }
 ],
 "metadata": {
  "accelerator": "GPU",
  "colab": {
   "collapsed_sections": [],
   "name": "TextGeneration_108403547.ipynb",
   "provenance": []
  },
  "kernelspec": {
   "display_name": "IR-new",
   "language": "python",
   "name": "python3"
  },
  "language_info": {
   "codemirror_mode": {
    "name": "ipython",
    "version": 3
   },
   "file_extension": ".py",
   "mimetype": "text/x-python",
   "name": "python",
   "nbconvert_exporter": "python",
   "pygments_lexer": "ipython3",
   "version": "3.9.18"
  }
 },
 "nbformat": 4,
 "nbformat_minor": 4
}
